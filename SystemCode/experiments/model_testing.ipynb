{
 "cells": [
  {
   "cell_type": "code",
   "execution_count": 1,
   "id": "1ce63397-dd41-4ecb-b4f1-663623fdd2d4",
   "metadata": {},
   "outputs": [],
   "source": [
    "%load_ext autoreload\n",
    "%autoreload 2"
   ]
  },
  {
   "cell_type": "code",
   "execution_count": 152,
   "id": "b35f3bcf-e011-404d-af02-2c186de3eaf1",
   "metadata": {},
   "outputs": [],
   "source": [
    "import pandas as pd\n",
    "from deepctr.feature_column import SparseFeat, VarLenSparseFeat\n",
    "from sklearn.preprocessing import LabelEncoder\n",
    "from tensorflow.python.keras import backend as K\n",
    "from tensorflow.python.keras.models import Model\n",
    "import numpy as np\n",
    "import random\n",
    "from tqdm import tqdm\n",
    "from deepmatch.models import ComiRec, NCF, YoutubeDNN, MIND\n",
    "from deepmatch.utils import sampledsoftmaxloss, NegativeSampler\n",
    "import tensorflow as tf\n",
    "import gc\n",
    "\n",
    "from deepctr.feature_column import DenseFeat\n",
    "\n",
    "pad_sequences = tf.keras.utils.pad_sequences\n",
    "SEQ_LEN = 10"
   ]
  },
  {
   "cell_type": "code",
   "execution_count": 153,
   "id": "c644c60a-f2d0-4984-8382-275d0ab727b1",
   "metadata": {},
   "outputs": [],
   "source": [
    "import load_data"
   ]
  },
  {
   "cell_type": "code",
   "execution_count": 154,
   "id": "7c534e11-8c4a-49be-924a-32910940fccc",
   "metadata": {},
   "outputs": [],
   "source": [
    "data, movies = load_data.load_25m()"
   ]
  },
  {
   "cell_type": "code",
   "execution_count": 14,
   "id": "fcad83ce-ae05-41fa-bc0f-263c4a0a2042",
   "metadata": {
    "collapsed": true,
    "jupyter": {
     "outputs_hidden": true
    }
   },
   "outputs": [
    {
     "name": "stderr",
     "output_type": "stream",
     "text": [
      "/root/workspace/IRS-PM-2024-01-13-IS06PT-GRP-CinePaw-Recommender/SystemCode/experiments/load_data.py:72: ParserWarning: Falling back to the 'python' engine because the 'c' engine does not support regex separators (separators > 1 char and different from '\\s+' are interpreted as regex); you can avoid this warning by specifying engine='python'.\n",
      "  user = pd.read_csv(data_path+'ml-1m/users.dat',sep='::',header=None,names=unames)\n",
      "/root/workspace/IRS-PM-2024-01-13-IS06PT-GRP-CinePaw-Recommender/SystemCode/experiments/load_data.py:74: ParserWarning: Falling back to the 'python' engine because the 'c' engine does not support regex separators (separators > 1 char and different from '\\s+' are interpreted as regex); you can avoid this warning by specifying engine='python'.\n",
      "  ratings = pd.read_csv(data_path+'ml-1m/ratings.dat',sep='::',header=None,names=rnames)\n",
      "/root/workspace/IRS-PM-2024-01-13-IS06PT-GRP-CinePaw-Recommender/SystemCode/experiments/load_data.py:76: ParserWarning: Falling back to the 'python' engine because the 'c' engine does not support regex separators (separators > 1 char and different from '\\s+' are interpreted as regex); you can avoid this warning by specifying engine='python'.\n",
      "  movies = pd.read_csv(data_path+'ml-1m/movies.dat',sep='::',header=None,names=mnames,encoding=\"unicode_escape\")\n"
     ]
    }
   ],
   "source": [
    "data, movies = load_data.load_1m()"
   ]
  },
  {
   "cell_type": "code",
   "execution_count": 155,
   "id": "7125e9cd-8b7d-4650-8263-784b526bef96",
   "metadata": {},
   "outputs": [
    {
     "data": {
      "text/html": [
       "<div>\n",
       "<style scoped>\n",
       "    .dataframe tbody tr th:only-of-type {\n",
       "        vertical-align: middle;\n",
       "    }\n",
       "\n",
       "    .dataframe tbody tr th {\n",
       "        vertical-align: top;\n",
       "    }\n",
       "\n",
       "    .dataframe thead th {\n",
       "        text-align: right;\n",
       "    }\n",
       "</style>\n",
       "<table border=\"1\" class=\"dataframe\">\n",
       "  <thead>\n",
       "    <tr style=\"text-align: right;\">\n",
       "      <th></th>\n",
       "      <th>movieId</th>\n",
       "      <th>title</th>\n",
       "      <th>genres</th>\n",
       "      <th>hot</th>\n",
       "      <th>grade</th>\n",
       "      <th>year</th>\n",
       "    </tr>\n",
       "  </thead>\n",
       "  <tbody>\n",
       "    <tr>\n",
       "      <th>0</th>\n",
       "      <td>1</td>\n",
       "      <td>Toy Story (1995)</td>\n",
       "      <td>Adventure|Animation|Children|Comedy|Fantasy</td>\n",
       "      <td>6</td>\n",
       "      <td>3</td>\n",
       "      <td>1995</td>\n",
       "    </tr>\n",
       "    <tr>\n",
       "      <th>1</th>\n",
       "      <td>2</td>\n",
       "      <td>Jumanji (1995)</td>\n",
       "      <td>Adventure|Children|Fantasy</td>\n",
       "      <td>4</td>\n",
       "      <td>3</td>\n",
       "      <td>1995</td>\n",
       "    </tr>\n",
       "    <tr>\n",
       "      <th>2</th>\n",
       "      <td>3</td>\n",
       "      <td>Grumpier Old Men (1995)</td>\n",
       "      <td>Comedy|Romance</td>\n",
       "      <td>4</td>\n",
       "      <td>3</td>\n",
       "      <td>1995</td>\n",
       "    </tr>\n",
       "    <tr>\n",
       "      <th>3</th>\n",
       "      <td>4</td>\n",
       "      <td>Waiting to Exhale (1995)</td>\n",
       "      <td>Comedy|Drama|Romance</td>\n",
       "      <td>3</td>\n",
       "      <td>2</td>\n",
       "      <td>1995</td>\n",
       "    </tr>\n",
       "    <tr>\n",
       "      <th>4</th>\n",
       "      <td>5</td>\n",
       "      <td>Father of the Bride Part II (1995)</td>\n",
       "      <td>Comedy</td>\n",
       "      <td>4</td>\n",
       "      <td>3</td>\n",
       "      <td>1995</td>\n",
       "    </tr>\n",
       "    <tr>\n",
       "      <th>...</th>\n",
       "      <td>...</td>\n",
       "      <td>...</td>\n",
       "      <td>...</td>\n",
       "      <td>...</td>\n",
       "      <td>...</td>\n",
       "      <td>...</td>\n",
       "    </tr>\n",
       "    <tr>\n",
       "      <th>59042</th>\n",
       "      <td>209157</td>\n",
       "      <td>We (2018)</td>\n",
       "      <td>Drama</td>\n",
       "      <td>1</td>\n",
       "      <td>1</td>\n",
       "      <td>2018</td>\n",
       "    </tr>\n",
       "    <tr>\n",
       "      <th>59043</th>\n",
       "      <td>209159</td>\n",
       "      <td>Window of the Soul (2001)</td>\n",
       "      <td>Documentary</td>\n",
       "      <td>1</td>\n",
       "      <td>2</td>\n",
       "      <td>2001</td>\n",
       "    </tr>\n",
       "    <tr>\n",
       "      <th>59044</th>\n",
       "      <td>209163</td>\n",
       "      <td>Bad Poems (2018)</td>\n",
       "      <td>Comedy|Drama</td>\n",
       "      <td>1</td>\n",
       "      <td>4</td>\n",
       "      <td>2018</td>\n",
       "    </tr>\n",
       "    <tr>\n",
       "      <th>59045</th>\n",
       "      <td>209169</td>\n",
       "      <td>A Girl Thing (2001)</td>\n",
       "      <td>(no genres listed)</td>\n",
       "      <td>1</td>\n",
       "      <td>2</td>\n",
       "      <td>2001</td>\n",
       "    </tr>\n",
       "    <tr>\n",
       "      <th>59046</th>\n",
       "      <td>209171</td>\n",
       "      <td>Women of Devil's Island (1962)</td>\n",
       "      <td>Action|Adventure|Drama</td>\n",
       "      <td>1</td>\n",
       "      <td>2</td>\n",
       "      <td>1962</td>\n",
       "    </tr>\n",
       "  </tbody>\n",
       "</table>\n",
       "<p>59047 rows × 6 columns</p>\n",
       "</div>"
      ],
      "text/plain": [
       "       movieId                               title  \\\n",
       "0            1                    Toy Story (1995)   \n",
       "1            2                      Jumanji (1995)   \n",
       "2            3             Grumpier Old Men (1995)   \n",
       "3            4            Waiting to Exhale (1995)   \n",
       "4            5  Father of the Bride Part II (1995)   \n",
       "...        ...                                 ...   \n",
       "59042   209157                           We (2018)   \n",
       "59043   209159           Window of the Soul (2001)   \n",
       "59044   209163                    Bad Poems (2018)   \n",
       "59045   209169                 A Girl Thing (2001)   \n",
       "59046   209171      Women of Devil's Island (1962)   \n",
       "\n",
       "                                            genres  hot  grade  year  \n",
       "0      Adventure|Animation|Children|Comedy|Fantasy    6      3  1995  \n",
       "1                       Adventure|Children|Fantasy    4      3  1995  \n",
       "2                                   Comedy|Romance    4      3  1995  \n",
       "3                             Comedy|Drama|Romance    3      2  1995  \n",
       "4                                           Comedy    4      3  1995  \n",
       "...                                            ...  ...    ...   ...  \n",
       "59042                                        Drama    1      1  2018  \n",
       "59043                                  Documentary    1      2  2001  \n",
       "59044                                 Comedy|Drama    1      4  2018  \n",
       "59045                           (no genres listed)    1      2  2001  \n",
       "59046                       Action|Adventure|Drama    1      2  1962  \n",
       "\n",
       "[59047 rows x 6 columns]"
      ]
     },
     "execution_count": 155,
     "metadata": {},
     "output_type": "execute_result"
    }
   ],
   "source": [
    "movies"
   ]
  },
  {
   "cell_type": "code",
   "execution_count": 156,
   "id": "c0e242ab-4998-4604-99ae-96ea70dfc9c8",
   "metadata": {},
   "outputs": [],
   "source": [
    "lbe = LabelEncoder()"
   ]
  },
  {
   "cell_type": "code",
   "execution_count": 157,
   "id": "67e362dd-687d-41a9-bea4-f9b24db9f521",
   "metadata": {},
   "outputs": [],
   "source": [
    "movies[\"int_genres\"] = lbe.fit_transform(movies[\"genres\"]) + 1"
   ]
  },
  {
   "cell_type": "code",
   "execution_count": 158,
   "id": "20aa1530-68c5-47cf-881c-6c8323f38c83",
   "metadata": {},
   "outputs": [],
   "source": [
    "data[\"genres\"] = lbe.transform(data[\"genres\"])+1"
   ]
  },
  {
   "cell_type": "code",
   "execution_count": 161,
   "id": "9f33d453-dc74-47ba-a7aa-b6cf7e4ecfa6",
   "metadata": {},
   "outputs": [],
   "source": [
    "data[\"userId\"] = data[\"user_id\"]\n",
    "data[\"movieId\"] = data[\"movie_id\"]"
   ]
  },
  {
   "cell_type": "code",
   "execution_count": 162,
   "id": "6e864630-835d-4bda-a1ba-e49e095248f7",
   "metadata": {
    "scrolled": true
   },
   "outputs": [],
   "source": [
    "user_id_size =  data['userId'].max()+1\n",
    "movie_id_size = data['movieId'].max()+1\n",
    "genre_id_size = int(data['genres'].max())+1\n",
    "grade_size = int(data['grade'].max()) + 1\n",
    "hot_size = int(data['hot'].max()) + 1\n",
    "year_size = int(data['year'].max()) + 1\n",
    "embedding_dim = 64"
   ]
  },
  {
   "cell_type": "code",
   "execution_count": 163,
   "id": "4a695e85-bfa4-4536-9e56-02f2198aaaf6",
   "metadata": {},
   "outputs": [
    {
     "name": "stdout",
     "output_type": "stream",
     "text": [
      "WARNING:tensorflow:From /root/.cache/pypoetry/virtualenvs/cinepaw-P6zxCTLW-py3.10/lib/python3.10/site-packages/tensorflow/python/keras/initializers/initializers_v1.py:55: calling RandomNormal.__init__ (from tensorflow.python.ops.init_ops) with dtype is deprecated and will be removed in a future version.\n",
      "Instructions for updating:\n",
      "Call initializer instance with the dtype argument instead of passing it to the constructor\n"
     ]
    }
   ],
   "source": [
    "user_feature_columns = [\n",
    "                        # SparseFeat('user_id', user_id_size, 16),\n",
    "                        VarLenSparseFeat(SparseFeat('hist_movie_id', movie_id_size, embedding_dim,\n",
    "                                                    embedding_name=\"movie_id\"), SEQ_LEN, 'mean', 'hist_len'),\n",
    "                        VarLenSparseFeat(SparseFeat('hist_genres', genre_id_size, embedding_dim,\n",
    "                                                   embedding_name=\"genres\"), SEQ_LEN, 'mean', 'hist_len'),\n",
    "                        VarLenSparseFeat(SparseFeat('hist_hot', genre_id_size, embedding_dim,\n",
    "                                                   embedding_name=\"hot\"), SEQ_LEN, 'mean', 'hist_len'),\n",
    "                            VarLenSparseFeat(SparseFeat('hist_grade', genre_id_size, embedding_dim,\n",
    "                                                   embedding_name=\"grade\"), SEQ_LEN, 'mean', 'hist_len'),\n",
    "                        VarLenSparseFeat(SparseFeat('hist_year', year_size, embedding_dim,\n",
    "                                                   embedding_name=\"year\"), SEQ_LEN, 'mean', 'hist_len'),\n",
    "                        ]\n",
    "item_feature_columns = [SparseFeat('movie_id', movie_id_size, embedding_dim),]"
   ]
  },
  {
   "cell_type": "code",
   "execution_count": 164,
   "id": "eca4e060-4070-4859-99de-0ec994c95590",
   "metadata": {},
   "outputs": [],
   "source": [
    "def get_train_input_for_user(user_df):\n",
    "    user_df = user_df.sort_values(\"timestamp\")\n",
    "    user_df = user_df[-50:] \n",
    "    user_id = user_df[\"user_id\"].to_list()[0]\n",
    "    tmp = [user_df[:x+1] for x in range(len(user_df))]\n",
    "    input_data = []\n",
    "    for record in tmp:\n",
    "        sample = {\n",
    "            \"history_movie_id\":np.array(record[\"movie_id\"].tolist()[:-1]),\n",
    "            \"history_genre_id\": np.array(record[\"genres\"].tolist()[:-1]),\n",
    "            \"history_hot\":np.array(record[\"hot\"].tolist()[:-1]),\n",
    "            \"history_grade\": np.array(record[\"grade\"].tolist()[:-1]),\n",
    "            \"history_year\": np.array(record[\"year\"].tolist()[:-1]),\n",
    "            \"movie_id\":np.array(record[\"movie_id\"].tolist()[-1]),\n",
    "            # np.array(record[\"genres\"].tolist()[:-1]) # history genre list\n",
    "        }\n",
    "        input_data.append(sample)\n",
    "    # train, test = input_data[:-1], input_data[-1:]\n",
    "    result_df = pd.DataFrame(input_data)\n",
    "    result_df[\"label\"] = 1 # tmp for now\n",
    "    result_df[\"hist_len\"] = SEQ_LEN\n",
    "    result_df[[\"label\", \"hist_len\"]] = result_df[[\"label\", \"hist_len\"]].astype(\"int8\")\n",
    "    return result_df\n",
    "\n",
    "def get_test_input_for_user(user_df):\n",
    "    #user_df = user_df.sort_values(\"timestamp\")\n",
    "    # user_df = user_df[-SEQ_LEN:] \n",
    "    user_id = user_df[\"user_id\"].to_list()[0]\n",
    "    \n",
    "    input_data = []\n",
    "    record = user_df\n",
    "    sample = {\n",
    "        \"history_movie_id\":np.array(record[\"movie_id\"].tolist()[:-1]),\n",
    "        \"history_genre_id\": np.array(record[\"genres\"].tolist()[:-1]),\n",
    "            \"history_hot\":np.array(record[\"hot\"].tolist()[:-1]),\n",
    "            \"history_grade\": np.array(record[\"grade\"].tolist()[:-1]),\n",
    "        \"history_year\": np.array(record[\"year\"].tolist()[:-1]),\n",
    "        \"movie_id\":np.array(record[\"movie_id\"].tolist()[-1]),\n",
    "        # np.array(record[\"genres\"].tolist()[:-1]) # history genre list\n",
    "    }\n",
    "    input_data.append(sample)\n",
    "    # train, test = input_data[:-1], input_data[-1:]\n",
    "    result_df = pd.DataFrame(input_data)\n",
    "    result_df[\"label\"] = 1 # tmp for now\n",
    "    result_df[\"hist_len\"] = SEQ_LEN\n",
    "    return result_df"
   ]
  },
  {
   "cell_type": "code",
   "execution_count": 165,
   "id": "261d310c-22da-4fb2-bd3c-1617c66ad47a",
   "metadata": {},
   "outputs": [],
   "source": [
    "from tqdm.auto import tqdm\n",
    "import numpy as np\n",
    "import pandas as pd\n",
    "tqdm.pandas()\n",
    "SEQ_LEN=10"
   ]
  },
  {
   "cell_type": "code",
   "execution_count": 166,
   "id": "42004c24-7a05-453d-b865-ace90e31c45a",
   "metadata": {},
   "outputs": [],
   "source": [
    "data[\"user_id\"] = data[\"userId\"]\n",
    "data[\"movie_id\"] = data[\"movieId\"]"
   ]
  },
  {
   "cell_type": "code",
   "execution_count": 167,
   "id": "16d5f6c8-b54c-4095-bb79-cf2b0e1c1a4c",
   "metadata": {},
   "outputs": [
    {
     "name": "stderr",
     "output_type": "stream",
     "text": [
      "100%|██████████████████████████████████████████████████████████████████████████████████████████████████████████████████████████████████| 162541/162541 [00:59<00:00, 2734.33it/s]\n"
     ]
    }
   ],
   "source": [
    "df = data.groupby(\"user_id\").progress_apply(lambda x:get_test_input_for_user(x))"
   ]
  },
  {
   "cell_type": "code",
   "execution_count": 168,
   "id": "c1cc2c67-54ac-4d46-adb2-a324b793e2df",
   "metadata": {
    "scrolled": true
   },
   "outputs": [
    {
     "name": "stderr",
     "output_type": "stream",
     "text": [
      "100%|███████████████████████████████████████████████████████████████████████████████████████████████████████████████████████████████████| 162541/162541 [11:32<00:00, 234.55it/s]\n"
     ]
    }
   ],
   "source": [
    "train_set = data.groupby(\"user_id\").progress_apply(lambda x:get_train_input_for_user(x))\n"
   ]
  },
  {
   "cell_type": "code",
   "execution_count": 169,
   "id": "df28f8f2-2e86-4357-9268-ae2be3f747af",
   "metadata": {},
   "outputs": [
    {
     "name": "stderr",
     "output_type": "stream",
     "text": [
      "100%|██████████████████████████████████████████████████████████████████████████████████████████████████████████████████████████████████| 162541/162541 [01:02<00:00, 2617.19it/s]\n"
     ]
    }
   ],
   "source": [
    "test_set = data.groupby(\"user_id\").progress_apply(lambda x:get_test_input_for_user(x))\n"
   ]
  },
  {
   "cell_type": "code",
   "execution_count": 174,
   "id": "3460d0e3-c141-4932-bd2a-8287d41dc8d5",
   "metadata": {},
   "outputs": [],
   "source": [
    "def construct_input(df):\n",
    "    df[\"history_movie_id\"] = pad_sequences(df[\"history_movie_id\"], maxlen=SEQ_LEN, padding='pre', truncating='pre', value=0).tolist()\n",
    "    df[\"history_genre_id\"] = pad_sequences(df[\"history_genre_id\"], maxlen=SEQ_LEN, padding='pre', truncating='pre', value=0).tolist()\n",
    "    df[\"history_hot\"] = pad_sequences(df[\"history_hot\"], maxlen=SEQ_LEN, padding='pre', truncating='pre', value=0).tolist()\n",
    "    df[\"history_grade\"] = pad_sequences(df[\"history_grade\"], maxlen=SEQ_LEN, padding='pre', truncating='pre', value=0).tolist()\n",
    "    df[\"history_year\"] = pad_sequences(df[\"history_year\"], maxlen=SEQ_LEN, padding='pre', truncating='pre', value=0).tolist()\n",
    "    \n",
    "    df = df.sample(frac=1)\n",
    "    \n",
    "    model_input = {\n",
    "        \"hist_movie_id\":np.array(df[\"history_movie_id\"].tolist()),\n",
    "        \"hist_genres\":np.array(df[\"history_genre_id\"].tolist()),\n",
    "        \"hist_hot\":np.array(df[\"history_hot\"].tolist()),\n",
    "        \"hist_grade\":np.array(df[\"history_grade\"].tolist()),\n",
    "        \"hist_year\":np.array(df[\"history_year\"].tolist()),\n",
    "        \"movie_id\": np.array(df[\"movie_id\"].tolist()),\n",
    "        \"hist_len\": np.array(df[\"hist_len\"].tolist()),\n",
    "    }\n",
    "    label =  df[\"label\"].tolist()\n",
    "    return model_input, label"
   ]
  },
  {
   "cell_type": "code",
   "execution_count": 175,
   "id": "909fb16f-baf1-4878-9de9-81fc761f298f",
   "metadata": {},
   "outputs": [],
   "source": [
    "train_model_input, train_label = construct_input(train_set)"
   ]
  },
  {
   "cell_type": "code",
   "execution_count": 171,
   "id": "05ec79cb-9e35-4c3f-926a-88cbe35bc9ff",
   "metadata": {},
   "outputs": [],
   "source": [
    "test_model_input, test_label = construct_input(test_set)"
   ]
  },
  {
   "cell_type": "markdown",
   "id": "f151248f-a39c-4cca-8b30-b4dabf4a9c85",
   "metadata": {},
   "source": [
    "## COMI REC"
   ]
  },
  {
   "cell_type": "code",
   "execution_count": null,
   "id": "2c8d2c3f-75f6-4f5c-b86b-9e9eb2b1afd1",
   "metadata": {
    "scrolled": true
   },
   "outputs": [
    {
     "name": "stdout",
     "output_type": "stream",
     "text": [
      "Train on 6947119 samples, validate on 70173 samples\n",
      "Epoch 1/20\n"
     ]
    },
    {
     "name": "stderr",
     "output_type": "stream",
     "text": [
      "2024-04-25 23:38:17.859040: W tensorflow/c/c_api.cc:291] Operation '{name:'training_22/Adam/sparse_seq_emb_hist_hot_11/embeddings/v/Assign' id:22821 op device:{requested: '', assigned: ''} def:{{{node training_22/Adam/sparse_seq_emb_hist_hot_11/embeddings/v/Assign}} = AssignVariableOp[_has_manual_control_dependencies=true, dtype=DT_FLOAT, validate_shape=false](training_22/Adam/sparse_seq_emb_hist_hot_11/embeddings/v, training_22/Adam/sparse_seq_emb_hist_hot_11/embeddings/v/Initializer/zeros)}}' was changed by setting attribute after it was run by a session. This mutation will have no effect, and will trigger an error in the future. Either don't modify nodes after running them or create a new session.\n"
     ]
    },
    {
     "name": "stdout",
     "output_type": "stream",
     "text": [
      "6947119/6947119 [==============================] - ETA: 0s - loss: 3.8241"
     ]
    },
    {
     "name": "stderr",
     "output_type": "stream",
     "text": [
      "2024-04-26 00:21:05.786251: W tensorflow/c/c_api.cc:291] Operation '{name:'loss_11/AddN_1' id:21818 op device:{requested: '', assigned: ''} def:{{{node loss_11/AddN_1}} = AddN[N=2, T=DT_FLOAT, _has_manual_control_dependencies=true](loss_11/mul, loss_11/AddN)}}' was changed by setting attribute after it was run by a session. This mutation will have no effect, and will trigger an error in the future. Either don't modify nodes after running them or create a new session.\n"
     ]
    },
    {
     "name": "stdout",
     "output_type": "stream",
     "text": [
      "6947119/6947119 [==============================] - 2581s 372us/sample - loss: 3.8241 - val_loss: 3.3839\n",
      "Epoch 2/20\n",
      "6947119/6947119 [==============================] - 2575s 371us/sample - loss: 3.0718 - val_loss: 3.0874\n",
      "Epoch 15/20\n",
      "6055424/6947119 [=========================>....] - ETA: 5:28 - loss: 3.0669"
     ]
    }
   ],
   "source": [
    "import tensorflow as tf\n",
    "if tf.__version__ >= '2.0.0':\n",
    "    tf.compat.v1.disable_eager_execution()\n",
    "else:\n",
    "    K.set_learning_phase(True)\n",
    "\n",
    "from collections import Counter\n",
    "train_counter = Counter(data['movie_id'])\n",
    "item_count = [int(math.sqrt(train_counter.get(i,0))) for i in range(item_feature_columns[0].vocabulary_size)] \n",
    "sampler_config = NegativeSampler('frequency',num_sampled=255,item_name=\"movie_id\",item_count=item_count)\n",
    "#model = YoutubeDNN(user_feature_columns, item_feature_columns, user_dnn_hidden_units=(128,64, embedding_dim), sampler_config=sampler_config)\n",
    "model = ComiRec(user_feature_columns,\n",
    "                item_feature_columns,\n",
    "                k_max=2, \n",
    "                interest_extractor=\"dr\",\n",
    "                user_dnn_hidden_units=(128,64, embedding_dim),\n",
    "                sampler_config=sampler_config)\n",
    "\n",
    "\n",
    "model.compile(optimizer=\"adam\", loss=sampledsoftmaxloss)\n",
    "history = model.fit(train_model_input, train_label,  # train_label,\n",
    "                    batch_size=512, epochs=20, verbose=1, validation_split=0.01, use_multiprocessing=True)"
   ]
  },
  {
   "cell_type": "code",
   "execution_count": null,
   "id": "7f6858f0-d5f9-4908-93af-575b795b1e18",
   "metadata": {},
   "outputs": [],
   "source": [
    "1"
   ]
  },
  {
   "cell_type": "markdown",
   "id": "770d1eaa-1e90-4204-a87b-b50006a9ded0",
   "metadata": {
    "jp-MarkdownHeadingCollapsed": true
   },
   "source": [
    "## YoutubeDNN"
   ]
  },
  {
   "cell_type": "code",
   "execution_count": 74,
   "id": "2c7f5f5f-ac3c-4af0-92f7-7951e37384b1",
   "metadata": {},
   "outputs": [],
   "source": [
    "import math"
   ]
  },
  {
   "cell_type": "code",
   "execution_count": 75,
   "id": "c1c88873-b1b8-4bde-b16c-d65ad463cf03",
   "metadata": {
    "scrolled": true
   },
   "outputs": [
    {
     "name": "stdout",
     "output_type": "stream",
     "text": [
      "Train on 268872 samples, validate on 2716 samples\n",
      "Epoch 1/20\n",
      "   512/268872 [..............................] - ETA: 2:02 - loss: 9.3321"
     ]
    },
    {
     "name": "stderr",
     "output_type": "stream",
     "text": [
      "2024-04-21 16:52:51.212496: W tensorflow/c/c_api.cc:291] Operation '{name:'training_2/Adam/dnn/bias2/v/Assign' id:3290 op device:{requested: '', assigned: ''} def:{{{node training_2/Adam/dnn/bias2/v/Assign}} = AssignVariableOp[_has_manual_control_dependencies=true, dtype=DT_FLOAT, validate_shape=false](training_2/Adam/dnn/bias2/v, training_2/Adam/dnn/bias2/v/Initializer/zeros)}}' was changed by setting attribute after it was run by a session. This mutation will have no effect, and will trigger an error in the future. Either don't modify nodes after running them or create a new session.\n"
     ]
    },
    {
     "name": "stdout",
     "output_type": "stream",
     "text": [
      "268872/268872 [==============================] - 4s 13us/sample - loss: 6.4510 - val_loss: 5.1434\n",
      "Epoch 2/20\n",
      "  5120/268872 [..............................] - ETA: 3s - loss: 5.1445"
     ]
    },
    {
     "name": "stderr",
     "output_type": "stream",
     "text": [
      "/root/.cache/pypoetry/virtualenvs/cinepaw-P6zxCTLW-py3.10/lib/python3.10/site-packages/tensorflow/python/keras/engine/training.py:2455: UserWarning: `Model.state_updates` will be removed in a future version. This property should not be used in TensorFlow 2.0, as `updates` are applied automatically.\n",
      "  warnings.warn('`Model.state_updates` will be removed in a future version. '\n",
      "2024-04-21 16:52:54.606500: W tensorflow/c/c_api.cc:291] Operation '{name:'loss_1/AddN_1' id:2463 op device:{requested: '', assigned: ''} def:{{{node loss_1/AddN_1}} = AddN[N=2, T=DT_FLOAT, _has_manual_control_dependencies=true](loss_1/mul, loss_1/AddN)}}' was changed by setting attribute after it was run by a session. This mutation will have no effect, and will trigger an error in the future. Either don't modify nodes after running them or create a new session.\n"
     ]
    },
    {
     "name": "stdout",
     "output_type": "stream",
     "text": [
      "268872/268872 [==============================] - 3s 12us/sample - loss: 4.7482 - val_loss: 4.4889\n",
      "Epoch 3/20\n",
      "268872/268872 [==============================] - 3s 12us/sample - loss: 4.3956 - val_loss: 4.3352\n",
      "Epoch 4/20\n",
      "268872/268872 [==============================] - 3s 12us/sample - loss: 4.2289 - val_loss: 4.2007\n",
      "Epoch 5/20\n",
      "268872/268872 [==============================] - 3s 12us/sample - loss: 4.1280 - val_loss: 4.1267\n",
      "Epoch 6/20\n",
      "268872/268872 [==============================] - 3s 12us/sample - loss: 4.0506 - val_loss: 4.0973\n",
      "Epoch 7/20\n",
      "268872/268872 [==============================] - 3s 12us/sample - loss: 3.9842 - val_loss: 4.1096\n",
      "Epoch 8/20\n",
      "268872/268872 [==============================] - 3s 12us/sample - loss: 3.9371 - val_loss: 4.0882\n",
      "Epoch 9/20\n",
      "268872/268872 [==============================] - 3s 12us/sample - loss: 3.8890 - val_loss: 4.0013\n",
      "Epoch 10/20\n",
      "268872/268872 [==============================] - 3s 12us/sample - loss: 3.8511 - val_loss: 3.9993\n",
      "Epoch 11/20\n",
      "268872/268872 [==============================] - 3s 12us/sample - loss: 3.8106 - val_loss: 4.0413\n",
      "Epoch 12/20\n",
      "268872/268872 [==============================] - 3s 12us/sample - loss: 3.7774 - val_loss: 4.0068\n",
      "Epoch 13/20\n",
      "268872/268872 [==============================] - 3s 12us/sample - loss: 3.7498 - val_loss: 4.0215\n",
      "Epoch 14/20\n",
      "268872/268872 [==============================] - 3s 12us/sample - loss: 3.7144 - val_loss: 3.9795\n",
      "Epoch 15/20\n",
      "268872/268872 [==============================] - 3s 12us/sample - loss: 3.6848 - val_loss: 3.9942\n",
      "Epoch 16/20\n",
      "268872/268872 [==============================] - 3s 12us/sample - loss: 3.6577 - val_loss: 3.9841\n",
      "Epoch 17/20\n",
      "268872/268872 [==============================] - 3s 12us/sample - loss: 3.6333 - val_loss: 4.0594\n",
      "Epoch 18/20\n",
      "268872/268872 [==============================] - 3s 12us/sample - loss: 3.6086 - val_loss: 4.0289\n",
      "Epoch 19/20\n",
      "268872/268872 [==============================] - 3s 12us/sample - loss: 3.5840 - val_loss: 4.0342\n",
      "Epoch 20/20\n",
      "268872/268872 [==============================] - 3s 12us/sample - loss: 3.5615 - val_loss: 4.0119\n"
     ]
    }
   ],
   "source": [
    "import tensorflow as tf\n",
    "from deepmatch.models import ComiRec, NCF, YoutubeDNN\n",
    "if tf.__version__ >= '2.0.0':\n",
    "    tf.compat.v1.disable_eager_execution()\n",
    "else:\n",
    "    K.set_learning_phase(True)\n",
    "\n",
    "from collections import Counter\n",
    "train_counter = Counter(data['movie_id'])\n",
    "item_count = [int(math.sqrt(train_counter.get(i,0))) for i in range(item_feature_columns[0].vocabulary_size)] #todo change this later\n",
    "sampler_config = NegativeSampler('frequency',num_sampled=255,item_name=\"movie_id\",item_count=item_count)\n",
    "#model = YoutubeDNN(user_feature_columns, item_feature_columns, user_dnn_hidden_units=(128,64, embedding_dim), sampler_config=sampler_config)\n",
    "model = YoutubeDNN(user_feature_columns,\n",
    "                item_feature_columns,\n",
    "                user_dnn_hidden_units=(128,64, embedding_dim),\n",
    "                sampler_config=sampler_config)\n",
    "\n",
    "\n",
    "model.compile(optimizer=\"adam\", loss=sampledsoftmaxloss)\n",
    "history = model.fit(train_model_input, train_label,  # train_label,\n",
    "                    batch_size=512, epochs=20, verbose=1, validation_split=0.01, use_multiprocessing=True)"
   ]
  },
  {
   "cell_type": "code",
   "execution_count": null,
   "id": "489e9de0-7305-489f-abf2-c2e74217c62c",
   "metadata": {},
   "outputs": [],
   "source": []
  },
  {
   "cell_type": "markdown",
   "id": "8e06ad8e-6f00-4df7-a073-41558f62cb5d",
   "metadata": {
    "jp-MarkdownHeadingCollapsed": true
   },
   "source": [
    "## MIND"
   ]
  },
  {
   "cell_type": "code",
   "execution_count": 143,
   "id": "64f029ec-06ac-4542-9cbd-5cb6058f5420",
   "metadata": {},
   "outputs": [
    {
     "name": "stdout",
     "output_type": "stream",
     "text": [
      "Train on 268872 samples, validate on 2716 samples\n",
      "Epoch 1/20\n"
     ]
    },
    {
     "name": "stderr",
     "output_type": "stream",
     "text": [
      "2024-04-21 17:56:30.270277: W tensorflow/c/c_api.cc:291] Operation '{name:'training_18/Adam/sparse_seq_emb_hist_year_9/embeddings/v/Assign' id:18849 op device:{requested: '', assigned: ''} def:{{{node training_18/Adam/sparse_seq_emb_hist_year_9/embeddings/v/Assign}} = AssignVariableOp[_has_manual_control_dependencies=true, dtype=DT_FLOAT, validate_shape=false](training_18/Adam/sparse_seq_emb_hist_year_9/embeddings/v, training_18/Adam/sparse_seq_emb_hist_year_9/embeddings/v/Initializer/zeros)}}' was changed by setting attribute after it was run by a session. This mutation will have no effect, and will trigger an error in the future. Either don't modify nodes after running them or create a new session.\n"
     ]
    },
    {
     "name": "stdout",
     "output_type": "stream",
     "text": [
      "266752/268872 [============================>.] - ETA: 0s - loss: 5.3665"
     ]
    },
    {
     "name": "stderr",
     "output_type": "stream",
     "text": [
      "2024-04-21 17:56:36.505389: W tensorflow/c/c_api.cc:291] Operation '{name:'loss_9/AddN_1' id:17832 op device:{requested: '', assigned: ''} def:{{{node loss_9/AddN_1}} = AddN[N=2, T=DT_FLOAT, _has_manual_control_dependencies=true](loss_9/mul, loss_9/AddN)}}' was changed by setting attribute after it was run by a session. This mutation will have no effect, and will trigger an error in the future. Either don't modify nodes after running them or create a new session.\n"
     ]
    },
    {
     "name": "stdout",
     "output_type": "stream",
     "text": [
      "268872/268872 [==============================] - 7s 25us/sample - loss: 5.3638 - val_loss: 5.0405\n",
      "Epoch 2/20\n",
      "268872/268872 [==============================] - 6s 22us/sample - loss: 4.8848 - val_loss: 4.6722\n",
      "Epoch 3/20\n",
      "268872/268872 [==============================] - 6s 22us/sample - loss: 4.5596 - val_loss: 4.4381\n",
      "Epoch 4/20\n",
      "268872/268872 [==============================] - 6s 22us/sample - loss: 4.3421 - val_loss: 4.2988\n",
      "Epoch 5/20\n",
      "268872/268872 [==============================] - 6s 22us/sample - loss: 4.2063 - val_loss: 4.2222\n",
      "Epoch 6/20\n",
      "268872/268872 [==============================] - 6s 22us/sample - loss: 4.1210 - val_loss: 4.1452\n",
      "Epoch 7/20\n",
      "268872/268872 [==============================] - 6s 22us/sample - loss: 4.0580 - val_loss: 4.1355\n",
      "Epoch 8/20\n",
      "268872/268872 [==============================] - 6s 22us/sample - loss: 4.0006 - val_loss: 4.0729\n",
      "Epoch 9/20\n",
      "268872/268872 [==============================] - 6s 22us/sample - loss: 3.9571 - val_loss: 4.0206\n",
      "Epoch 10/20\n",
      "268872/268872 [==============================] - 6s 22us/sample - loss: 3.9138 - val_loss: 4.0198\n",
      "Epoch 11/20\n",
      "268872/268872 [==============================] - 6s 22us/sample - loss: 3.8768 - val_loss: 3.9896\n",
      "Epoch 12/20\n",
      "268872/268872 [==============================] - 6s 22us/sample - loss: 3.8459 - val_loss: 3.9681\n",
      "Epoch 13/20\n",
      "268872/268872 [==============================] - 6s 22us/sample - loss: 3.8193 - val_loss: 3.9171\n",
      "Epoch 14/20\n",
      "268872/268872 [==============================] - 6s 22us/sample - loss: 3.7913 - val_loss: 3.9480\n",
      "Epoch 15/20\n",
      "268872/268872 [==============================] - 6s 22us/sample - loss: 3.7721 - val_loss: 3.9226\n",
      "Epoch 16/20\n",
      "268872/268872 [==============================] - 6s 22us/sample - loss: 3.7464 - val_loss: 3.9215\n",
      "Epoch 17/20\n",
      "268872/268872 [==============================] - 6s 22us/sample - loss: 3.7274 - val_loss: 3.9515\n",
      "Epoch 18/20\n",
      "268872/268872 [==============================] - 6s 22us/sample - loss: 3.7111 - val_loss: 3.9183\n",
      "Epoch 19/20\n",
      "268872/268872 [==============================] - 6s 22us/sample - loss: 3.6915 - val_loss: 3.9209\n",
      "Epoch 20/20\n",
      "268872/268872 [==============================] - 6s 22us/sample - loss: 3.6793 - val_loss: 3.9046\n"
     ]
    }
   ],
   "source": [
    "import tensorflow as tf\n",
    "from deepmatch.models import ComiRec, NCF, YoutubeDNN\n",
    "if tf.__version__ >= '2.0.0':\n",
    "    tf.compat.v1.disable_eager_execution()\n",
    "else:\n",
    "    K.set_learning_phase(True)\n",
    "\n",
    "from collections import Counter\n",
    "train_counter = Counter(data['movie_id'])\n",
    "item_count = [int(math.sqrt(train_counter.get(i,0))) for i in range(item_feature_columns[0].vocabulary_size)] #todo change this later\n",
    "sampler_config = NegativeSampler('frequency',num_sampled=255,item_name=\"movie_id\",item_count=item_count)\n",
    "#model = YoutubeDNN(user_feature_columns, item_feature_columns, user_dnn_hidden_units=(128,64, embedding_dim), sampler_config=sampler_config)\n",
    "model = MIND(user_feature_columns,\n",
    "                item_feature_columns,\n",
    "                 k_max=2,\n",
    "                user_dnn_hidden_units=(128,64, embedding_dim),\n",
    "                sampler_config=sampler_config)\n",
    "\n",
    "\n",
    "model.compile(optimizer=\"adam\", loss=sampledsoftmaxloss)\n",
    "history = model.fit(train_model_input, train_label,  # train_label,\n",
    "                    batch_size=512, epochs=20, verbose=1, validation_split=0.01, use_multiprocessing=True)"
   ]
  },
  {
   "cell_type": "markdown",
   "id": "ff559a2b-456b-4d58-9d26-89b0feeb6a81",
   "metadata": {
    "jp-MarkdownHeadingCollapsed": true
   },
   "source": [
    "## Single Test"
   ]
  },
  {
   "cell_type": "code",
   "execution_count": 34,
   "id": "51397097-3b07-4b74-a74d-cb711551e5c8",
   "metadata": {},
   "outputs": [],
   "source": [
    "from scipy.spatial.distance import cdist"
   ]
  },
  {
   "cell_type": "code",
   "execution_count": 35,
   "id": "29aec637-b9b6-498f-ba5a-6595f07e471c",
   "metadata": {},
   "outputs": [
    {
     "name": "stderr",
     "output_type": "stream",
     "text": [
      "/root/.cache/pypoetry/virtualenvs/cinepaw-P6zxCTLW-py3.10/lib/python3.10/site-packages/tensorflow/python/keras/engine/training.py:2455: UserWarning: `Model.state_updates` will be removed in a future version. This property should not be used in TensorFlow 2.0, as `updates` are applied automatically.\n",
      "  warnings.warn('`Model.state_updates` will be removed in a future version. '\n",
      "2024-04-21 13:28:58.558053: W tensorflow/c/c_api.cc:291] Operation '{name:'lambda_3/Squeeze' id:643 op device:{requested: '', assigned: ''} def:{{{node lambda_3/Squeeze}} = Squeeze[T=DT_FLOAT, _has_manual_control_dependencies=true, squeeze_dims=[1]](lambda_3/GatherV2)}}' was changed by setting attribute after it was run by a session. This mutation will have no effect, and will trigger an error in the future. Either don't modify nodes after running them or create a new session.\n"
     ]
    }
   ],
   "source": [
    "all_movie_ids = movies[\"movieId\"]\n",
    "metadatas = movies.to_dict(orient=\"records\")\n",
    "\n",
    "all_item_model_input = {\"movie_id\": all_movie_ids}\n",
    "\n",
    "user_embedding_model = Model(inputs=model.user_input, outputs=model.user_embedding)\n",
    "item_embedding_model = Model(inputs=model.item_input, outputs=model.item_embedding)\n",
    "\n",
    "#user_embs = user_embedding_model.predict(test_user_model_input, batch_size=2 ** 12)\n",
    "# user_embs = user_embs[:, i, :]  # i in [0,k_max) if MIND\n",
    "item_embs = item_embedding_model.predict(all_item_model_input, batch_size=2 ** 12)"
   ]
  },
  {
   "cell_type": "code",
   "execution_count": 36,
   "id": "4bf129be-7c5f-41de-a297-f6d2f558ee96",
   "metadata": {
    "scrolled": true
   },
   "outputs": [
    {
     "data": {
      "text/html": [
       "<div>\n",
       "<style scoped>\n",
       "    .dataframe tbody tr th:only-of-type {\n",
       "        vertical-align: middle;\n",
       "    }\n",
       "\n",
       "    .dataframe tbody tr th {\n",
       "        vertical-align: top;\n",
       "    }\n",
       "\n",
       "    .dataframe thead th {\n",
       "        text-align: right;\n",
       "    }\n",
       "</style>\n",
       "<table border=\"1\" class=\"dataframe\">\n",
       "  <thead>\n",
       "    <tr style=\"text-align: right;\">\n",
       "      <th></th>\n",
       "      <th>movieId</th>\n",
       "      <th>title</th>\n",
       "      <th>genres</th>\n",
       "      <th>hot</th>\n",
       "      <th>grade</th>\n",
       "      <th>year</th>\n",
       "      <th>int_genres</th>\n",
       "    </tr>\n",
       "  </thead>\n",
       "  <tbody>\n",
       "    <tr>\n",
       "      <th>1789</th>\n",
       "      <td>1969</td>\n",
       "      <td>Nightmare on Elm Street Part 2: Freddy's Reven...</td>\n",
       "      <td>Horror</td>\n",
       "      <td>2</td>\n",
       "      <td>2</td>\n",
       "      <td>1985</td>\n",
       "      <td>275</td>\n",
       "    </tr>\n",
       "    <tr>\n",
       "      <th>1790</th>\n",
       "      <td>1970</td>\n",
       "      <td>Nightmare on Elm Street 3: Dream Warriors, A (...</td>\n",
       "      <td>Horror</td>\n",
       "      <td>2</td>\n",
       "      <td>2</td>\n",
       "      <td>1987</td>\n",
       "      <td>275</td>\n",
       "    </tr>\n",
       "    <tr>\n",
       "      <th>2319</th>\n",
       "      <td>2514</td>\n",
       "      <td>Pet Sematary II (1992)</td>\n",
       "      <td>Horror</td>\n",
       "      <td>2</td>\n",
       "      <td>2</td>\n",
       "      <td>1992</td>\n",
       "      <td>275</td>\n",
       "    </tr>\n",
       "    <tr>\n",
       "      <th>2318</th>\n",
       "      <td>2513</td>\n",
       "      <td>Pet Sematary (1989)</td>\n",
       "      <td>Horror</td>\n",
       "      <td>2</td>\n",
       "      <td>2</td>\n",
       "      <td>1989</td>\n",
       "      <td>275</td>\n",
       "    </tr>\n",
       "    <tr>\n",
       "      <th>1791</th>\n",
       "      <td>1971</td>\n",
       "      <td>Nightmare on Elm Street 4: The Dream Master, A...</td>\n",
       "      <td>Horror</td>\n",
       "      <td>2</td>\n",
       "      <td>2</td>\n",
       "      <td>1988</td>\n",
       "      <td>275</td>\n",
       "    </tr>\n",
       "    <tr>\n",
       "      <th>1792</th>\n",
       "      <td>1972</td>\n",
       "      <td>Nightmare on Elm Street 5: The Dream Child, A ...</td>\n",
       "      <td>Horror</td>\n",
       "      <td>2</td>\n",
       "      <td>1</td>\n",
       "      <td>1989</td>\n",
       "      <td>275</td>\n",
       "    </tr>\n",
       "    <tr>\n",
       "      <th>1793</th>\n",
       "      <td>1973</td>\n",
       "      <td>Freddy's Dead: The Final Nightmare (1991)</td>\n",
       "      <td>Horror</td>\n",
       "      <td>2</td>\n",
       "      <td>2</td>\n",
       "      <td>1991</td>\n",
       "      <td>275</td>\n",
       "    </tr>\n",
       "    <tr>\n",
       "      <th>2322</th>\n",
       "      <td>2517</td>\n",
       "      <td>Christine (1983)</td>\n",
       "      <td>Horror</td>\n",
       "      <td>2</td>\n",
       "      <td>3</td>\n",
       "      <td>1983</td>\n",
       "      <td>275</td>\n",
       "    </tr>\n",
       "    <tr>\n",
       "      <th>2505</th>\n",
       "      <td>2710</td>\n",
       "      <td>Blair Witch Project, The (1999)</td>\n",
       "      <td>Horror</td>\n",
       "      <td>3</td>\n",
       "      <td>3</td>\n",
       "      <td>1999</td>\n",
       "      <td>275</td>\n",
       "    </tr>\n",
       "    <tr>\n",
       "      <th>1166</th>\n",
       "      <td>1258</td>\n",
       "      <td>Shining, The (1980)</td>\n",
       "      <td>Horror</td>\n",
       "      <td>3</td>\n",
       "      <td>4</td>\n",
       "      <td>1980</td>\n",
       "      <td>275</td>\n",
       "    </tr>\n",
       "  </tbody>\n",
       "</table>\n",
       "</div>"
      ],
      "text/plain": [
       "      movieId                                              title  genres  hot  \\\n",
       "1789     1969  Nightmare on Elm Street Part 2: Freddy's Reven...  Horror    2   \n",
       "1790     1970  Nightmare on Elm Street 3: Dream Warriors, A (...  Horror    2   \n",
       "2319     2514                             Pet Sematary II (1992)  Horror    2   \n",
       "2318     2513                                Pet Sematary (1989)  Horror    2   \n",
       "1791     1971  Nightmare on Elm Street 4: The Dream Master, A...  Horror    2   \n",
       "1792     1972  Nightmare on Elm Street 5: The Dream Child, A ...  Horror    2   \n",
       "1793     1973          Freddy's Dead: The Final Nightmare (1991)  Horror    2   \n",
       "2322     2517                                   Christine (1983)  Horror    2   \n",
       "2505     2710                    Blair Witch Project, The (1999)  Horror    3   \n",
       "1166     1258                                Shining, The (1980)  Horror    3   \n",
       "\n",
       "      grade  year  int_genres  \n",
       "1789      2  1985         275  \n",
       "1790      2  1987         275  \n",
       "2319      2  1992         275  \n",
       "2318      2  1989         275  \n",
       "1791      2  1988         275  \n",
       "1792      1  1989         275  \n",
       "1793      2  1991         275  \n",
       "2322      3  1983         275  \n",
       "2505      3  1999         275  \n",
       "1166      4  1980         275  "
      ]
     },
     "execution_count": 36,
     "metadata": {},
     "output_type": "execute_result"
    }
   ],
   "source": [
    "movies[(movies[\"genres\"]==\"Horror\")&(movies[\"year\"]>1970)]\\\n",
    "    .sort_values([\"hot\"]).tail(10)"
   ]
  },
  {
   "cell_type": "code",
   "execution_count": 37,
   "id": "640bd623-9e70-485d-9ad0-92aedb48c3ab",
   "metadata": {
    "scrolled": true
   },
   "outputs": [],
   "source": [
    "watched_titles = [\"Blair Witch Project, The (1999)\", \"Exorcist, The (1973)\", \"Friday the 13th Part V: A New Beginning (1985)\"]"
   ]
  },
  {
   "cell_type": "code",
   "execution_count": 38,
   "id": "02b56f30-a8d7-4315-8789-91869c24e842",
   "metadata": {},
   "outputs": [],
   "source": [
    "watched_titles = movies[(movies[\"genres\"]==\"Horror\")&(movies[\"year\"]>1990)]\\\n",
    "    .sort_values([\"hot\"]).tail(10)[\"title\"].tolist()"
   ]
  },
  {
   "cell_type": "code",
   "execution_count": 39,
   "id": "200a5208-15a4-47f9-ae8e-497c374e414e",
   "metadata": {
    "scrolled": true
   },
   "outputs": [],
   "source": [
    "watched_titles = watched_titles[0:10]"
   ]
  },
  {
   "cell_type": "code",
   "execution_count": 40,
   "id": "6921f455-9225-4a4f-85a8-3707e1f2ca26",
   "metadata": {},
   "outputs": [
    {
     "name": "stderr",
     "output_type": "stream",
     "text": [
      "/tmp/ipykernel_2789777/3737173683.py:2: SettingWithCopyWarning: \n",
      "A value is trying to be set on a copy of a slice from a DataFrame.\n",
      "Try using .loc[row_indexer,col_indexer] = value instead\n",
      "\n",
      "See the caveats in the documentation: https://pandas.pydata.org/pandas-docs/stable/user_guide/indexing.html#returning-a-view-versus-a-copy\n",
      "  user_df[\"genres\"] = lbe.transform(user_df[\"genres\"]) + 1\n"
     ]
    }
   ],
   "source": [
    "user_df = movies[movies[\"title\"].isin(watched_titles)]\n",
    "user_df[\"genres\"] = lbe.transform(user_df[\"genres\"]) + 1\n",
    "model_input = {\n",
    "    \"hist_movie_id\": pad_sequences(np.array([user_df[\"movieId\"].tolist()]), maxlen=SEQ_LEN, padding='pre', truncating='pre', value=0),\n",
    "    \"hist_genres\": pad_sequences(np.array([user_df[\"genres\"].tolist()]), maxlen=SEQ_LEN, padding='pre', truncating='pre', value=0),\n",
    "    \"hist_hot\": pad_sequences(np.array([user_df[\"hot\"].tolist()]), maxlen=SEQ_LEN, padding='pre', truncating='pre', value=0),\n",
    "    \"hist_grade\": pad_sequences(np.array([user_df[\"grade\"].tolist()]), maxlen=SEQ_LEN, padding='pre', truncating='pre', value=0),\n",
    "    \"hist_year\": pad_sequences(np.array([user_df[\"year\"].tolist()]), maxlen=SEQ_LEN, padding='pre', truncating='pre', value=0),\n",
    "    \"hist_len\": np.array([len(user_df[\"genres\"].tolist())])\n",
    "}"
   ]
  },
  {
   "cell_type": "code",
   "execution_count": 41,
   "id": "79b3ea9a-553f-48df-9df2-d1aeb67b4368",
   "metadata": {},
   "outputs": [
    {
     "name": "stderr",
     "output_type": "stream",
     "text": [
      "/root/.cache/pypoetry/virtualenvs/cinepaw-P6zxCTLW-py3.10/lib/python3.10/site-packages/tensorflow/python/keras/engine/training.py:2455: UserWarning: `Model.state_updates` will be removed in a future version. This property should not be used in TensorFlow 2.0, as `updates` are applied automatically.\n",
      "  warnings.warn('`Model.state_updates` will be removed in a future version. '\n",
      "2024-04-21 13:29:10.092720: W tensorflow/c/c_api.cc:291] Operation '{name:'user_dnn/dropout_4/cond/Identity' id:461 op device:{requested: '', assigned: ''} def:{{{node user_dnn/dropout_4/cond/Identity}} = Identity[T=DT_FLOAT, _has_manual_control_dependencies=true](user_dnn/dropout_4/cond)}}' was changed by setting attribute after it was run by a session. This mutation will have no effect, and will trigger an error in the future. Either don't modify nodes after running them or create a new session.\n"
     ]
    }
   ],
   "source": [
    "user_embs = user_embedding_model.predict(model_input, batch_size=2 ** 12)"
   ]
  },
  {
   "cell_type": "code",
   "execution_count": 42,
   "id": "479a8404-2b0f-457c-a130-f70b977fc7d4",
   "metadata": {},
   "outputs": [
    {
     "data": {
      "text/plain": [
       "['Tales from the Crypt Presents: Bordello of Blood (1996)',\n",
       " \"Wes Craven's New Nightmare (1994)\",\n",
       " 'Pet Sematary II (1992)',\n",
       " 'Candyman (1992)',\n",
       " 'Vampires (1998)',\n",
       " 'Wishmaster (1997)',\n",
       " \"Freddy's Dead: The Final Nightmare (1991)\",\n",
       " 'Relic, The (1997)',\n",
       " 'Tales From the Crypt Presents: Demon Knight (1995)',\n",
       " 'Blair Witch Project, The (1999)']"
      ]
     },
     "execution_count": 42,
     "metadata": {},
     "output_type": "execute_result"
    }
   ],
   "source": [
    "watched_titles"
   ]
  },
  {
   "cell_type": "code",
   "execution_count": 46,
   "id": "27e9d257-ae4e-4c4c-86a7-a4bf21910725",
   "metadata": {
    "collapsed": true,
    "jupyter": {
     "outputs_hidden": true
    },
    "scrolled": true
   },
   "outputs": [
    {
     "data": {
      "text/html": [
       "<div>\n",
       "<style scoped>\n",
       "    .dataframe tbody tr th:only-of-type {\n",
       "        vertical-align: middle;\n",
       "    }\n",
       "\n",
       "    .dataframe tbody tr th {\n",
       "        vertical-align: top;\n",
       "    }\n",
       "\n",
       "    .dataframe thead th {\n",
       "        text-align: right;\n",
       "    }\n",
       "</style>\n",
       "<table border=\"1\" class=\"dataframe\">\n",
       "  <thead>\n",
       "    <tr style=\"text-align: right;\">\n",
       "      <th></th>\n",
       "      <th>movieId</th>\n",
       "      <th>title</th>\n",
       "      <th>genres</th>\n",
       "      <th>hot</th>\n",
       "      <th>grade</th>\n",
       "      <th>year</th>\n",
       "      <th>int_genres</th>\n",
       "      <th>distance</th>\n",
       "    </tr>\n",
       "  </thead>\n",
       "  <tbody>\n",
       "    <tr>\n",
       "      <th>320</th>\n",
       "      <td>330</td>\n",
       "      <td>Tales from the Hood (1995)</td>\n",
       "      <td>Comedy|Horror</td>\n",
       "      <td>2</td>\n",
       "      <td>2</td>\n",
       "      <td>1995</td>\n",
       "      <td>197</td>\n",
       "      <td>16.586804</td>\n",
       "    </tr>\n",
       "    <tr>\n",
       "      <th>831</th>\n",
       "      <td>891</td>\n",
       "      <td>Halloween: The Curse of Michael Myers (1995)</td>\n",
       "      <td>Horror|Thriller</td>\n",
       "      <td>2</td>\n",
       "      <td>2</td>\n",
       "      <td>1995</td>\n",
       "      <td>281</td>\n",
       "      <td>16.591472</td>\n",
       "    </tr>\n",
       "    <tr>\n",
       "      <th>356</th>\n",
       "      <td>366</td>\n",
       "      <td>Wes Craven's New Nightmare (1994)</td>\n",
       "      <td>Horror</td>\n",
       "      <td>2</td>\n",
       "      <td>2</td>\n",
       "      <td>1994</td>\n",
       "      <td>275</td>\n",
       "      <td>16.613286</td>\n",
       "    </tr>\n",
       "    <tr>\n",
       "      <th>1793</th>\n",
       "      <td>1973</td>\n",
       "      <td>Freddy's Dead: The Final Nightmare (1991)</td>\n",
       "      <td>Horror</td>\n",
       "      <td>2</td>\n",
       "      <td>2</td>\n",
       "      <td>1991</td>\n",
       "      <td>275</td>\n",
       "      <td>16.632660</td>\n",
       "    </tr>\n",
       "    <tr>\n",
       "      <th>1926</th>\n",
       "      <td>2107</td>\n",
       "      <td>Halloween: H20 (1998)</td>\n",
       "      <td>Horror|Thriller</td>\n",
       "      <td>2</td>\n",
       "      <td>2</td>\n",
       "      <td>1998</td>\n",
       "      <td>281</td>\n",
       "      <td>16.634372</td>\n",
       "    </tr>\n",
       "    <tr>\n",
       "      <th>596</th>\n",
       "      <td>611</td>\n",
       "      <td>Hellraiser: Bloodline (1996)</td>\n",
       "      <td>Action|Horror|Sci-Fi</td>\n",
       "      <td>2</td>\n",
       "      <td>2</td>\n",
       "      <td>1996</td>\n",
       "      <td>77</td>\n",
       "      <td>16.654623</td>\n",
       "    </tr>\n",
       "    <tr>\n",
       "      <th>68</th>\n",
       "      <td>70</td>\n",
       "      <td>From Dusk Till Dawn (1996)</td>\n",
       "      <td>Action|Comedy|Crime|Horror|Thriller</td>\n",
       "      <td>2</td>\n",
       "      <td>3</td>\n",
       "      <td>1996</td>\n",
       "      <td>47</td>\n",
       "      <td>16.660159</td>\n",
       "    </tr>\n",
       "    <tr>\n",
       "      <th>1244</th>\n",
       "      <td>1342</td>\n",
       "      <td>Candyman (1992)</td>\n",
       "      <td>Horror</td>\n",
       "      <td>2</td>\n",
       "      <td>2</td>\n",
       "      <td>1992</td>\n",
       "      <td>275</td>\n",
       "      <td>16.667507</td>\n",
       "    </tr>\n",
       "    <tr>\n",
       "      <th>190</th>\n",
       "      <td>196</td>\n",
       "      <td>Species (1995)</td>\n",
       "      <td>Horror|Sci-Fi</td>\n",
       "      <td>2</td>\n",
       "      <td>2</td>\n",
       "      <td>1995</td>\n",
       "      <td>279</td>\n",
       "      <td>16.671106</td>\n",
       "    </tr>\n",
       "    <tr>\n",
       "      <th>318</th>\n",
       "      <td>328</td>\n",
       "      <td>Tales From the Crypt Presents: Demon Knight (1...</td>\n",
       "      <td>Horror</td>\n",
       "      <td>2</td>\n",
       "      <td>3</td>\n",
       "      <td>1995</td>\n",
       "      <td>275</td>\n",
       "      <td>16.685303</td>\n",
       "    </tr>\n",
       "    <tr>\n",
       "      <th>1570</th>\n",
       "      <td>1717</td>\n",
       "      <td>Scream 2 (1997)</td>\n",
       "      <td>Horror|Thriller</td>\n",
       "      <td>2</td>\n",
       "      <td>2</td>\n",
       "      <td>1997</td>\n",
       "      <td>281</td>\n",
       "      <td>16.689170</td>\n",
       "    </tr>\n",
       "    <tr>\n",
       "      <th>790</th>\n",
       "      <td>842</td>\n",
       "      <td>Tales from the Crypt Presents: Bordello of Blo...</td>\n",
       "      <td>Horror</td>\n",
       "      <td>2</td>\n",
       "      <td>2</td>\n",
       "      <td>1996</td>\n",
       "      <td>275</td>\n",
       "      <td>16.696940</td>\n",
       "    </tr>\n",
       "    <tr>\n",
       "      <th>2508</th>\n",
       "      <td>2713</td>\n",
       "      <td>Lake Placid (1999)</td>\n",
       "      <td>Horror|Thriller</td>\n",
       "      <td>2</td>\n",
       "      <td>2</td>\n",
       "      <td>1999</td>\n",
       "      <td>281</td>\n",
       "      <td>16.697751</td>\n",
       "    </tr>\n",
       "    <tr>\n",
       "      <th>691</th>\n",
       "      <td>724</td>\n",
       "      <td>Craft, The (1996)</td>\n",
       "      <td>Drama|Horror</td>\n",
       "      <td>2</td>\n",
       "      <td>3</td>\n",
       "      <td>1996</td>\n",
       "      <td>245</td>\n",
       "      <td>16.700429</td>\n",
       "    </tr>\n",
       "    <tr>\n",
       "      <th>1553</th>\n",
       "      <td>1690</td>\n",
       "      <td>Alien: Resurrection (1997)</td>\n",
       "      <td>Action|Horror|Sci-Fi</td>\n",
       "      <td>2</td>\n",
       "      <td>2</td>\n",
       "      <td>1997</td>\n",
       "      <td>77</td>\n",
       "      <td>16.700684</td>\n",
       "    </tr>\n",
       "    <tr>\n",
       "      <th>372</th>\n",
       "      <td>382</td>\n",
       "      <td>Wolf (1994)</td>\n",
       "      <td>Drama|Horror</td>\n",
       "      <td>2</td>\n",
       "      <td>2</td>\n",
       "      <td>1994</td>\n",
       "      <td>245</td>\n",
       "      <td>16.707494</td>\n",
       "    </tr>\n",
       "    <tr>\n",
       "      <th>1939</th>\n",
       "      <td>2120</td>\n",
       "      <td>Needful Things (1993)</td>\n",
       "      <td>Drama|Horror</td>\n",
       "      <td>2</td>\n",
       "      <td>2</td>\n",
       "      <td>1993</td>\n",
       "      <td>245</td>\n",
       "      <td>16.710685</td>\n",
       "    </tr>\n",
       "    <tr>\n",
       "      <th>3672</th>\n",
       "      <td>3919</td>\n",
       "      <td>Hellraiser III: Hell on Earth (1992)</td>\n",
       "      <td>Horror</td>\n",
       "      <td>1</td>\n",
       "      <td>2</td>\n",
       "      <td>1992</td>\n",
       "      <td>275</td>\n",
       "      <td>16.716135</td>\n",
       "    </tr>\n",
       "    <tr>\n",
       "      <th>1257</th>\n",
       "      <td>1355</td>\n",
       "      <td>Nightwatch (1997)</td>\n",
       "      <td>Horror|Thriller</td>\n",
       "      <td>1</td>\n",
       "      <td>2</td>\n",
       "      <td>1997</td>\n",
       "      <td>281</td>\n",
       "      <td>16.716943</td>\n",
       "    </tr>\n",
       "    <tr>\n",
       "      <th>266</th>\n",
       "      <td>273</td>\n",
       "      <td>Mary Shelley's Frankenstein (1994)</td>\n",
       "      <td>Drama|Horror</td>\n",
       "      <td>2</td>\n",
       "      <td>2</td>\n",
       "      <td>1994</td>\n",
       "      <td>245</td>\n",
       "      <td>16.722314</td>\n",
       "    </tr>\n",
       "  </tbody>\n",
       "</table>\n",
       "</div>"
      ],
      "text/plain": [
       "      movieId                                              title  \\\n",
       "320       330                         Tales from the Hood (1995)   \n",
       "831       891       Halloween: The Curse of Michael Myers (1995)   \n",
       "356       366                  Wes Craven's New Nightmare (1994)   \n",
       "1793     1973          Freddy's Dead: The Final Nightmare (1991)   \n",
       "1926     2107                              Halloween: H20 (1998)   \n",
       "596       611                       Hellraiser: Bloodline (1996)   \n",
       "68         70                         From Dusk Till Dawn (1996)   \n",
       "1244     1342                                    Candyman (1992)   \n",
       "190       196                                     Species (1995)   \n",
       "318       328  Tales From the Crypt Presents: Demon Knight (1...   \n",
       "1570     1717                                    Scream 2 (1997)   \n",
       "790       842  Tales from the Crypt Presents: Bordello of Blo...   \n",
       "2508     2713                                 Lake Placid (1999)   \n",
       "691       724                                  Craft, The (1996)   \n",
       "1553     1690                         Alien: Resurrection (1997)   \n",
       "372       382                                        Wolf (1994)   \n",
       "1939     2120                              Needful Things (1993)   \n",
       "3672     3919               Hellraiser III: Hell on Earth (1992)   \n",
       "1257     1355                                  Nightwatch (1997)   \n",
       "266       273                 Mary Shelley's Frankenstein (1994)   \n",
       "\n",
       "                                   genres  hot  grade  year  int_genres  \\\n",
       "320                         Comedy|Horror    2      2  1995         197   \n",
       "831                       Horror|Thriller    2      2  1995         281   \n",
       "356                                Horror    2      2  1994         275   \n",
       "1793                               Horror    2      2  1991         275   \n",
       "1926                      Horror|Thriller    2      2  1998         281   \n",
       "596                  Action|Horror|Sci-Fi    2      2  1996          77   \n",
       "68    Action|Comedy|Crime|Horror|Thriller    2      3  1996          47   \n",
       "1244                               Horror    2      2  1992         275   \n",
       "190                         Horror|Sci-Fi    2      2  1995         279   \n",
       "318                                Horror    2      3  1995         275   \n",
       "1570                      Horror|Thriller    2      2  1997         281   \n",
       "790                                Horror    2      2  1996         275   \n",
       "2508                      Horror|Thriller    2      2  1999         281   \n",
       "691                          Drama|Horror    2      3  1996         245   \n",
       "1553                 Action|Horror|Sci-Fi    2      2  1997          77   \n",
       "372                          Drama|Horror    2      2  1994         245   \n",
       "1939                         Drama|Horror    2      2  1993         245   \n",
       "3672                               Horror    1      2  1992         275   \n",
       "1257                      Horror|Thriller    1      2  1997         281   \n",
       "266                          Drama|Horror    2      2  1994         245   \n",
       "\n",
       "       distance  \n",
       "320   16.586804  \n",
       "831   16.591472  \n",
       "356   16.613286  \n",
       "1793  16.632660  \n",
       "1926  16.634372  \n",
       "596   16.654623  \n",
       "68    16.660159  \n",
       "1244  16.667507  \n",
       "190   16.671106  \n",
       "318   16.685303  \n",
       "1570  16.689170  \n",
       "790   16.696940  \n",
       "2508  16.697751  \n",
       "691   16.700429  \n",
       "1553  16.700684  \n",
       "372   16.707494  \n",
       "1939  16.710685  \n",
       "3672  16.716135  \n",
       "1257  16.716943  \n",
       "266   16.722314  "
      ]
     },
     "execution_count": 46,
     "metadata": {},
     "output_type": "execute_result"
    }
   ],
   "source": [
    "matrix = item_embs\n",
    "distance = cdist(np.array([user_embs[0][0]]), matrix).min(axis=0)\n",
    "movies[\"distance\"] = distance\n",
    "movies.sort_values(\"distance\").head(20)"
   ]
  },
  {
   "cell_type": "code",
   "execution_count": 44,
   "id": "fc9c1ffe-3819-4407-b4b9-5a12cfbfd15d",
   "metadata": {},
   "outputs": [
    {
     "data": {
      "text/html": [
       "<div>\n",
       "<style scoped>\n",
       "    .dataframe tbody tr th:only-of-type {\n",
       "        vertical-align: middle;\n",
       "    }\n",
       "\n",
       "    .dataframe tbody tr th {\n",
       "        vertical-align: top;\n",
       "    }\n",
       "\n",
       "    .dataframe thead th {\n",
       "        text-align: right;\n",
       "    }\n",
       "</style>\n",
       "<table border=\"1\" class=\"dataframe\">\n",
       "  <thead>\n",
       "    <tr style=\"text-align: right;\">\n",
       "      <th></th>\n",
       "      <th>movieId</th>\n",
       "      <th>title</th>\n",
       "      <th>genres</th>\n",
       "      <th>hot</th>\n",
       "      <th>grade</th>\n",
       "      <th>year</th>\n",
       "      <th>int_genres</th>\n",
       "      <th>distance</th>\n",
       "    </tr>\n",
       "  </thead>\n",
       "  <tbody>\n",
       "    <tr>\n",
       "      <th>31</th>\n",
       "      <td>32</td>\n",
       "      <td>Twelve Monkeys (1995)</td>\n",
       "      <td>Drama|Sci-Fi</td>\n",
       "      <td>3</td>\n",
       "      <td>3</td>\n",
       "      <td>1995</td>\n",
       "      <td>259</td>\n",
       "      <td>21.591556</td>\n",
       "    </tr>\n",
       "    <tr>\n",
       "      <th>1305</th>\n",
       "      <td>1407</td>\n",
       "      <td>Scream (1996)</td>\n",
       "      <td>Horror|Thriller</td>\n",
       "      <td>2</td>\n",
       "      <td>3</td>\n",
       "      <td>1996</td>\n",
       "      <td>281</td>\n",
       "      <td>21.636694</td>\n",
       "    </tr>\n",
       "    <tr>\n",
       "      <th>3266</th>\n",
       "      <td>3499</td>\n",
       "      <td>Misery (1990)</td>\n",
       "      <td>Horror</td>\n",
       "      <td>2</td>\n",
       "      <td>3</td>\n",
       "      <td>1990</td>\n",
       "      <td>275</td>\n",
       "      <td>21.638495</td>\n",
       "    </tr>\n",
       "    <tr>\n",
       "      <th>33</th>\n",
       "      <td>34</td>\n",
       "      <td>Babe (1995)</td>\n",
       "      <td>Children's|Comedy|Drama</td>\n",
       "      <td>3</td>\n",
       "      <td>3</td>\n",
       "      <td>1995</td>\n",
       "      <td>162</td>\n",
       "      <td>21.641369</td>\n",
       "    </tr>\n",
       "    <tr>\n",
       "      <th>1703</th>\n",
       "      <td>1883</td>\n",
       "      <td>Bulworth (1998)</td>\n",
       "      <td>Comedy</td>\n",
       "      <td>2</td>\n",
       "      <td>3</td>\n",
       "      <td>1998</td>\n",
       "      <td>177</td>\n",
       "      <td>21.643138</td>\n",
       "    </tr>\n",
       "    <tr>\n",
       "      <th>0</th>\n",
       "      <td>1</td>\n",
       "      <td>Toy Story (1995)</td>\n",
       "      <td>Animation|Children's|Comedy</td>\n",
       "      <td>3</td>\n",
       "      <td>4</td>\n",
       "      <td>1995</td>\n",
       "      <td>146</td>\n",
       "      <td>21.645989</td>\n",
       "    </tr>\n",
       "    <tr>\n",
       "      <th>3238</th>\n",
       "      <td>3471</td>\n",
       "      <td>Close Encounters of the Third Kind (1977)</td>\n",
       "      <td>Drama|Sci-Fi</td>\n",
       "      <td>3</td>\n",
       "      <td>4</td>\n",
       "      <td>1977</td>\n",
       "      <td>259</td>\n",
       "      <td>21.648958</td>\n",
       "    </tr>\n",
       "    <tr>\n",
       "      <th>1099</th>\n",
       "      <td>1188</td>\n",
       "      <td>Strictly Ballroom (1992)</td>\n",
       "      <td>Comedy|Romance</td>\n",
       "      <td>2</td>\n",
       "      <td>3</td>\n",
       "      <td>1992</td>\n",
       "      <td>208</td>\n",
       "      <td>21.650224</td>\n",
       "    </tr>\n",
       "    <tr>\n",
       "      <th>1438</th>\n",
       "      <td>1565</td>\n",
       "      <td>Head Above Water (1996)</td>\n",
       "      <td>Comedy|Thriller</td>\n",
       "      <td>1</td>\n",
       "      <td>2</td>\n",
       "      <td>1996</td>\n",
       "      <td>214</td>\n",
       "      <td>21.652230</td>\n",
       "    </tr>\n",
       "    <tr>\n",
       "      <th>576</th>\n",
       "      <td>590</td>\n",
       "      <td>Dances with Wolves (1990)</td>\n",
       "      <td>Adventure|Drama|Western</td>\n",
       "      <td>3</td>\n",
       "      <td>3</td>\n",
       "      <td>1990</td>\n",
       "      <td>131</td>\n",
       "      <td>21.655299</td>\n",
       "    </tr>\n",
       "    <tr>\n",
       "      <th>30</th>\n",
       "      <td>31</td>\n",
       "      <td>Dangerous Minds (1995)</td>\n",
       "      <td>Drama</td>\n",
       "      <td>2</td>\n",
       "      <td>3</td>\n",
       "      <td>1995</td>\n",
       "      <td>240</td>\n",
       "      <td>21.655800</td>\n",
       "    </tr>\n",
       "    <tr>\n",
       "      <th>1817</th>\n",
       "      <td>1997</td>\n",
       "      <td>Exorcist, The (1973)</td>\n",
       "      <td>Horror</td>\n",
       "      <td>2</td>\n",
       "      <td>3</td>\n",
       "      <td>1973</td>\n",
       "      <td>275</td>\n",
       "      <td>21.656067</td>\n",
       "    </tr>\n",
       "    <tr>\n",
       "      <th>2993</th>\n",
       "      <td>3213</td>\n",
       "      <td>Batman: Mask of the Phantasm (1993)</td>\n",
       "      <td>Animation|Children's</td>\n",
       "      <td>2</td>\n",
       "      <td>3</td>\n",
       "      <td>1993</td>\n",
       "      <td>145</td>\n",
       "      <td>21.656805</td>\n",
       "    </tr>\n",
       "    <tr>\n",
       "      <th>1477</th>\n",
       "      <td>1609</td>\n",
       "      <td>187 (1997)</td>\n",
       "      <td>Drama</td>\n",
       "      <td>1</td>\n",
       "      <td>2</td>\n",
       "      <td>1997</td>\n",
       "      <td>240</td>\n",
       "      <td>21.657534</td>\n",
       "    </tr>\n",
       "    <tr>\n",
       "      <th>2694</th>\n",
       "      <td>2901</td>\n",
       "      <td>Phantasm (1979)</td>\n",
       "      <td>Horror|Sci-Fi</td>\n",
       "      <td>2</td>\n",
       "      <td>3</td>\n",
       "      <td>1979</td>\n",
       "      <td>279</td>\n",
       "      <td>21.658917</td>\n",
       "    </tr>\n",
       "    <tr>\n",
       "      <th>1530</th>\n",
       "      <td>1667</td>\n",
       "      <td>Mad City (1997)</td>\n",
       "      <td>Action|Drama</td>\n",
       "      <td>2</td>\n",
       "      <td>2</td>\n",
       "      <td>1997</td>\n",
       "      <td>65</td>\n",
       "      <td>21.659846</td>\n",
       "    </tr>\n",
       "    <tr>\n",
       "      <th>24</th>\n",
       "      <td>25</td>\n",
       "      <td>Leaving Las Vegas (1995)</td>\n",
       "      <td>Drama|Romance</td>\n",
       "      <td>2</td>\n",
       "      <td>3</td>\n",
       "      <td>1995</td>\n",
       "      <td>253</td>\n",
       "      <td>21.660045</td>\n",
       "    </tr>\n",
       "    <tr>\n",
       "      <th>1453</th>\n",
       "      <td>1584</td>\n",
       "      <td>Contact (1997)</td>\n",
       "      <td>Drama|Sci-Fi</td>\n",
       "      <td>3</td>\n",
       "      <td>3</td>\n",
       "      <td>1997</td>\n",
       "      <td>259</td>\n",
       "      <td>21.661503</td>\n",
       "    </tr>\n",
       "    <tr>\n",
       "      <th>2042</th>\n",
       "      <td>2232</td>\n",
       "      <td>Cube (1997)</td>\n",
       "      <td>Sci-Fi|Thriller</td>\n",
       "      <td>2</td>\n",
       "      <td>3</td>\n",
       "      <td>1997</td>\n",
       "      <td>296</td>\n",
       "      <td>21.661617</td>\n",
       "    </tr>\n",
       "    <tr>\n",
       "      <th>1574</th>\n",
       "      <td>1721</td>\n",
       "      <td>Titanic (1997)</td>\n",
       "      <td>Drama|Romance</td>\n",
       "      <td>3</td>\n",
       "      <td>3</td>\n",
       "      <td>1997</td>\n",
       "      <td>253</td>\n",
       "      <td>21.662539</td>\n",
       "    </tr>\n",
       "  </tbody>\n",
       "</table>\n",
       "</div>"
      ],
      "text/plain": [
       "      movieId                                      title  \\\n",
       "31         32                      Twelve Monkeys (1995)   \n",
       "1305     1407                              Scream (1996)   \n",
       "3266     3499                              Misery (1990)   \n",
       "33         34                                Babe (1995)   \n",
       "1703     1883                            Bulworth (1998)   \n",
       "0           1                           Toy Story (1995)   \n",
       "3238     3471  Close Encounters of the Third Kind (1977)   \n",
       "1099     1188                   Strictly Ballroom (1992)   \n",
       "1438     1565                    Head Above Water (1996)   \n",
       "576       590                  Dances with Wolves (1990)   \n",
       "30         31                     Dangerous Minds (1995)   \n",
       "1817     1997                       Exorcist, The (1973)   \n",
       "2993     3213        Batman: Mask of the Phantasm (1993)   \n",
       "1477     1609                                 187 (1997)   \n",
       "2694     2901                            Phantasm (1979)   \n",
       "1530     1667                            Mad City (1997)   \n",
       "24         25                   Leaving Las Vegas (1995)   \n",
       "1453     1584                             Contact (1997)   \n",
       "2042     2232                                Cube (1997)   \n",
       "1574     1721                             Titanic (1997)   \n",
       "\n",
       "                           genres  hot  grade  year  int_genres   distance  \n",
       "31                   Drama|Sci-Fi    3      3  1995         259  21.591556  \n",
       "1305              Horror|Thriller    2      3  1996         281  21.636694  \n",
       "3266                       Horror    2      3  1990         275  21.638495  \n",
       "33        Children's|Comedy|Drama    3      3  1995         162  21.641369  \n",
       "1703                       Comedy    2      3  1998         177  21.643138  \n",
       "0     Animation|Children's|Comedy    3      4  1995         146  21.645989  \n",
       "3238                 Drama|Sci-Fi    3      4  1977         259  21.648958  \n",
       "1099               Comedy|Romance    2      3  1992         208  21.650224  \n",
       "1438              Comedy|Thriller    1      2  1996         214  21.652230  \n",
       "576       Adventure|Drama|Western    3      3  1990         131  21.655299  \n",
       "30                          Drama    2      3  1995         240  21.655800  \n",
       "1817                       Horror    2      3  1973         275  21.656067  \n",
       "2993         Animation|Children's    2      3  1993         145  21.656805  \n",
       "1477                        Drama    1      2  1997         240  21.657534  \n",
       "2694                Horror|Sci-Fi    2      3  1979         279  21.658917  \n",
       "1530                 Action|Drama    2      2  1997          65  21.659846  \n",
       "24                  Drama|Romance    2      3  1995         253  21.660045  \n",
       "1453                 Drama|Sci-Fi    3      3  1997         259  21.661503  \n",
       "2042              Sci-Fi|Thriller    2      3  1997         296  21.661617  \n",
       "1574                Drama|Romance    3      3  1997         253  21.662539  "
      ]
     },
     "execution_count": 44,
     "metadata": {},
     "output_type": "execute_result"
    }
   ],
   "source": [
    "matrix = item_embs\n",
    "distance = cdist(np.array([user_embs[0][1]]), matrix).min(axis=0)\n",
    "movies[\"distance\"] = distance\n",
    "movies.sort_values(\"distance\").head(20)"
   ]
  },
  {
   "cell_type": "code",
   "execution_count": 431,
   "id": "af2d1f4f-f357-40a1-ba8f-c19a19c47539",
   "metadata": {},
   "outputs": [
    {
     "data": {
      "text/plain": [
       "[\"Nightmare on Elm Street Part 2: Freddy's Revenge, A (1985)\",\n",
       " 'Nightmare on Elm Street 3: Dream Warriors, A (1987)',\n",
       " 'Pet Sematary II (1992)',\n",
       " 'Pet Sematary (1989)',\n",
       " 'Nightmare on Elm Street 4: The Dream Master, A (1988)',\n",
       " 'Nightmare on Elm Street 5: The Dream Child, A (1989)',\n",
       " \"Freddy's Dead: The Final Nightmare (1991)\",\n",
       " 'Christine (1983)',\n",
       " 'Blair Witch Project, The (1999)',\n",
       " 'Shining, The (1980)']"
      ]
     },
     "execution_count": 431,
     "metadata": {},
     "output_type": "execute_result"
    }
   ],
   "source": [
    "watched_titles"
   ]
  },
  {
   "cell_type": "code",
   "execution_count": 458,
   "id": "804d0a3e-2228-4d90-abbd-f173a2502d01",
   "metadata": {},
   "outputs": [
    {
     "data": {
      "text/plain": [
       "<function deepmatch.models.comirec.ComiRec(user_feature_columns, item_feature_columns, k_max=2, p=100, interest_extractor='sa', add_pos=True, user_dnn_hidden_units=(64, 32), dnn_activation='relu', dnn_use_bn=False, l2_reg_dnn=0, l2_reg_embedding=1e-06, dnn_dropout=0, output_activation='linear', sampler_config=None, seed=1024)>"
      ]
     },
     "execution_count": 458,
     "metadata": {},
     "output_type": "execute_result"
    }
   ],
   "source": [
    "ComiRec"
   ]
  },
  {
   "cell_type": "code",
   "execution_count": null,
   "id": "fbd49816-c95b-4f82-9adb-e0d665b82b10",
   "metadata": {},
   "outputs": [],
   "source": []
  },
  {
   "cell_type": "code",
   "execution_count": null,
   "id": "68f32ea7-fec8-4ea7-908c-d251a7ac8123",
   "metadata": {},
   "outputs": [],
   "source": []
  },
  {
   "cell_type": "code",
   "execution_count": null,
   "id": "1f2f2733-f850-4356-83da-d54904e87dee",
   "metadata": {},
   "outputs": [],
   "source": [
    "item"
   ]
  },
  {
   "cell_type": "code",
   "execution_count": 116,
   "id": "7d1d402c-8bfc-486c-8e7d-0cf9885ce300",
   "metadata": {},
   "outputs": [],
   "source": [
    "import chromadb\n",
    "chroma_client = chromadb.PersistentClient(path=\"./chroma_data\")\n",
    "collection = chroma_client.get_or_create_collection(\"movie_rec_25m_0421\")\n",
    "#collection.delete(ids=all_movie_ids.apply(str).tolist()[:30000])\n",
    "#collection.delete(ids=all_movie_ids.apply(str).tolist()[30000:])\n",
    "collection = chroma_client.get_or_create_collection(\"movie_rec_25m_0421\")\n",
    "\n",
    "\n",
    "collection.add(ids=all_movie_ids.apply(str).tolist()[:30000],\n",
    "               embeddings=item_embs[:30000],\n",
    "               metadatas=metadatas[:30000])\n",
    "collection.add(ids=all_movie_ids.apply(str).tolist()[30000:],\n",
    "               embeddings=item_embs[30000:],\n",
    "               metadatas=metadatas[30000:])"
   ]
  },
  {
   "cell_type": "code",
   "execution_count": 117,
   "id": "e957f9ec-6c9d-4e80-96f3-48aa55af8aa0",
   "metadata": {},
   "outputs": [
    {
     "name": "stderr",
     "output_type": "stream",
     "text": [
      "/root/.cache/pypoetry/virtualenvs/cinepaw-P6zxCTLW-py3.10/lib/python3.10/site-packages/tensorflow/python/keras/utils/generic_utils.py:494: CustomMaskWarning: Custom mask layers require a config and must override get_config. When loading, the custom mask layer must be passed to the custom_objects argument.\n",
      "  warnings.warn('Custom mask layers require a config and must override '\n"
     ]
    }
   ],
   "source": [
    "from tensorflow.python.keras.models import  save_model,load_model\n",
    "from deepmatch.layers import custom_objects\n",
    "save_model(user_embedding_model, 'user_emb_25m_0421.h5')"
   ]
  },
  {
   "cell_type": "code",
   "execution_count": 108,
   "id": "215a4934-aac9-4a92-84c4-22f0bbd16201",
   "metadata": {
    "collapsed": true,
    "jupyter": {
     "outputs_hidden": true
    },
    "scrolled": true
   },
   "outputs": [
    {
     "name": "stdout",
     "output_type": "stream",
     "text": [
      "Model: \"model\"\n",
      "__________________________________________________________________________________________________\n",
      "Layer (type)                    Output Shape         Param #     Connected to                     \n",
      "==================================================================================================\n",
      "movie_id (InputLayer)           [(None, 1)]          0                                            \n",
      "__________________________________________________________________________________________________\n",
      "embedding_index (EmbeddingIndex (209172,)            0           movie_id[0][0]                   \n",
      "__________________________________________________________________________________________________\n",
      "hist_movie_id (InputLayer)      [(None, 10)]         0                                            \n",
      "__________________________________________________________________________________________________\n",
      "sparse_seq_emb_hist_movie_id (E multiple             13387008    movie_id[0][0]                   \n",
      "                                                                 hist_movie_id[0][0]              \n",
      "                                                                 embedding_index[0][0]            \n",
      "__________________________________________________________________________________________________\n",
      "hist_genres (InputLayer)        [(None, 10)]         0                                            \n",
      "__________________________________________________________________________________________________\n",
      "hist_hot (InputLayer)           [(None, 10)]         0                                            \n",
      "__________________________________________________________________________________________________\n",
      "hist_grade (InputLayer)         [(None, 10)]         0                                            \n",
      "__________________________________________________________________________________________________\n",
      "hist_year (InputLayer)          [(None, 10)]         0                                            \n",
      "__________________________________________________________________________________________________\n",
      "sparse_seq_emb_hist_year (Embed (None, 10, 64)       129280      hist_genres[0][0]                \n",
      "                                                                 hist_hot[0][0]                   \n",
      "                                                                 hist_grade[0][0]                 \n",
      "                                                                 hist_year[0][0]                  \n",
      "__________________________________________________________________________________________________\n",
      "hist_len (InputLayer)           [(None, 1)]          0                                            \n",
      "__________________________________________________________________________________________________\n",
      "no_mask (NoMask)                [(None, 10, 64)]     0           sparse_seq_emb_hist_movie_id[1][0\n",
      "__________________________________________________________________________________________________\n",
      "sequence_pooling_layer (Sequenc (None, 1, 64)        0           sparse_seq_emb_hist_year[0][0]   \n",
      "                                                                 hist_len[0][0]                   \n",
      "__________________________________________________________________________________________________\n",
      "sequence_pooling_layer_1 (Seque (None, 1, 64)        0           sparse_seq_emb_hist_year[1][0]   \n",
      "                                                                 hist_len[0][0]                   \n",
      "__________________________________________________________________________________________________\n",
      "sequence_pooling_layer_2 (Seque (None, 1, 64)        0           sparse_seq_emb_hist_year[2][0]   \n",
      "                                                                 hist_len[0][0]                   \n",
      "__________________________________________________________________________________________________\n",
      "sequence_pooling_layer_3 (Seque (None, 1, 64)        0           sparse_seq_emb_hist_year[3][0]   \n",
      "                                                                 hist_len[0][0]                   \n",
      "__________________________________________________________________________________________________\n",
      "pooling_layer (PoolingLayer)    (None, 10, 64)       0           no_mask[0][0]                    \n",
      "__________________________________________________________________________________________________\n",
      "concat (Concat)                 (None, 1, 256)       0           sequence_pooling_layer[0][0]     \n",
      "                                                                 sequence_pooling_layer_1[0][0]   \n",
      "                                                                 sequence_pooling_layer_2[0][0]   \n",
      "                                                                 sequence_pooling_layer_3[0][0]   \n",
      "__________________________________________________________________________________________________\n",
      "position_encoding (PositionEnco (None, 10, 64)       640         pooling_layer[0][0]              \n",
      "__________________________________________________________________________________________________\n",
      "flatten (Flatten)               (None, 256)          0           concat[0][0]                     \n",
      "__________________________________________________________________________________________________\n",
      "private__add (_Add)             (None, 10, 64)       0           pooling_layer[0][0]              \n",
      "                                                                 position_encoding[0][0]          \n",
      "__________________________________________________________________________________________________\n",
      "lambda_2 (Lambda)               (None, 2, 256)       0           flatten[0][0]                    \n",
      "__________________________________________________________________________________________________\n",
      "lambda (Lambda)                 (None, 2, 10)        0           hist_len[0][0]                   \n",
      "__________________________________________________________________________________________________\n",
      "user_dnn_attn (DNN)             (None, 10, 2)        17154       private__add[0][0]               \n",
      "__________________________________________________________________________________________________\n",
      "no_mask_2 (NoMask)              (None, 2, 256)       0           lambda_2[0][0]                   \n",
      "__________________________________________________________________________________________________\n",
      "lambda_1 (Lambda)               (None, 2, 64)        0           private__add[0][0]               \n",
      "                                                                 lambda[0][0]                     \n",
      "                                                                 user_dnn_attn[0][0]              \n",
      "__________________________________________________________________________________________________\n",
      "concatenate (Concatenate)       (None, 2, 320)       0           no_mask_2[0][0]                  \n",
      "                                                                 lambda_1[0][0]                   \n",
      "__________________________________________________________________________________________________\n",
      "no_mask_1 (NoMask)              [(None, 1, 64)]      0           sparse_seq_emb_hist_movie_id[0][0\n",
      "__________________________________________________________________________________________________\n",
      "no_mask_3 (NoMask)              (209172, 64)         0           sparse_seq_emb_hist_movie_id[2][0\n",
      "__________________________________________________________________________________________________\n",
      "user_dnn (DNN)                  (None, 2, 64)        53504       concatenate[0][0]                \n",
      "__________________________________________________________________________________________________\n",
      "pooling_layer_1 (PoolingLayer)  (None, 1, 64)        0           no_mask_1[0][0]                  \n",
      "__________________________________________________________________________________________________\n",
      "pooling_layer_2 (PoolingLayer)  (209172, 64)         0           no_mask_3[0][0]                  \n",
      "__________________________________________________________________________________________________\n",
      "label_aware_attention (LabelAwa (None, 64)           0           user_dnn[0][0]                   \n",
      "                                                                 pooling_layer_1[0][0]            \n",
      "__________________________________________________________________________________________________\n",
      "sampled_softmax_layer (SampledS (None, 1)            209172      pooling_layer_2[0][0]            \n",
      "                                                                 label_aware_attention[0][0]      \n",
      "                                                                 movie_id[0][0]                   \n",
      "==================================================================================================\n",
      "Total params: 13,796,758\n",
      "Trainable params: 13,587,586\n",
      "Non-trainable params: 209,172\n",
      "__________________________________________________________________________________________________\n"
     ]
    }
   ],
   "source": [
    "model.summary()"
   ]
  },
  {
   "cell_type": "code",
   "execution_count": 5,
   "id": "bff9fcec-e64a-4fc9-bdf1-843e5deec5bb",
   "metadata": {},
   "outputs": [],
   "source": [
    "import pydot\n",
    "import graphviz"
   ]
  },
  {
   "cell_type": "code",
   "execution_count": 51,
   "id": "c3a5e2eb-4393-408b-a5fe-e8aa3a848be4",
   "metadata": {},
   "outputs": [
    {
     "data": {
      "image/png": "[encoded data removed]",
      "text/plain": [
       "<IPython.core.display.Image object>"
      ]
     },
     "execution_count": 51,
     "metadata": {},
     "output_type": "execute_result"
    }
   ],
   "source": [
    "tf.keras.utils.plot_model(model)"
   ]
  },
  {
   "cell_type": "code",
   "execution_count": 118,
   "id": "463286fc-f511-4526-98b2-b2afb29a4e65",
   "metadata": {},
   "outputs": [],
   "source": [
    "save_model(model, 'model_25m_0421.h5')"
   ]
  },
  {
   "cell_type": "code",
   "execution_count": null,
   "id": "77fb8de5-cce9-463c-a70d-686ff93300ba",
   "metadata": {},
   "outputs": [],
   "source": []
  },
  {
   "cell_type": "code",
   "execution_count": null,
   "id": "b1a97203-3487-4e75-8c8f-ab44505420e3",
   "metadata": {},
   "outputs": [],
   "source": [
    "!poetry add pydot graphviz"
   ]
  },
  {
   "cell_type": "code",
   "execution_count": null,
   "id": "1fec3d85-1063-4f62-a3ee-a344e66e0663",
   "metadata": {},
   "outputs": [],
   "source": []
  },
  {
   "cell_type": "code",
   "execution_count": null,
   "id": "fe9ffad4-7ef1-431f-ae49-2f005a69dff3",
   "metadata": {},
   "outputs": [],
   "source": []
  },
  {
   "cell_type": "code",
   "execution_count": null,
   "id": "ee63a77b-628f-4a40-bc14-39049d9e657b",
   "metadata": {},
   "outputs": [],
   "source": []
  },
  {
   "cell_type": "code",
   "execution_count": 1,
   "id": "9e7ba5d8-d760-4276-9344-6ccb3385763f",
   "metadata": {
    "collapsed": true,
    "jupyter": {
     "outputs_hidden": true
    }
   },
   "outputs": [
    {
     "name": "stderr",
     "output_type": "stream",
     "text": [
      "2024-04-21 13:18:04.817702: I tensorflow/core/platform/cpu_feature_guard.cc:193] This TensorFlow binary is optimized with oneAPI Deep Neural Network Library (oneDNN) to use the following CPU instructions in performance-critical operations:  AVX2 AVX_VNNI FMA\n",
      "To enable them in other operations, rebuild TensorFlow with the appropriate compiler flags.\n",
      "2024-04-21 13:18:04.873837: I tensorflow/core/util/port.cc:104] oneDNN custom operations are on. You may see slightly different numerical results due to floating-point round-off errors from different computation orders. To turn them off, set the environment variable `TF_ENABLE_ONEDNN_OPTS=0`.\n",
      "2024-04-21 13:18:05.218525: W tensorflow/compiler/xla/stream_executor/platform/default/dso_loader.cc:64] Could not load dynamic library 'libnvinfer.so.7'; dlerror: libnvinfer.so.7: cannot open shared object file: No such file or directory; LD_LIBRARY_PATH: /usr/local/nvidia/lib:/usr/local/nvidia/lib64\n",
      "2024-04-21 13:18:05.218557: W tensorflow/compiler/xla/stream_executor/platform/default/dso_loader.cc:64] Could not load dynamic library 'libnvinfer_plugin.so.7'; dlerror: libnvinfer_plugin.so.7: cannot open shared object file: No such file or directory; LD_LIBRARY_PATH: /usr/local/nvidia/lib:/usr/local/nvidia/lib64\n",
      "2024-04-21 13:18:05.218559: W tensorflow/compiler/tf2tensorrt/utils/py_utils.cc:38] TF-TRT Warning: Cannot dlopen some TensorRT libraries. If you would like to use Nvidia GPU with TensorRT, please make sure the missing libraries mentioned above are installed properly.\n"
     ]
    }
   ],
   "source": [
    "from tensorflow.python.keras.models import  save_model,load_model\n",
    "from deepmatch.layers import custom_objects"
   ]
  },
  {
   "cell_type": "code",
   "execution_count": 2,
   "id": "08633446-6faa-4ca6-bd38-3582ff82d11e",
   "metadata": {
    "collapsed": true,
    "jupyter": {
     "outputs_hidden": true
    }
   },
   "outputs": [
    {
     "name": "stderr",
     "output_type": "stream",
     "text": [
      "2024-04-21 13:18:05.981997: E tensorflow/compiler/xla/stream_executor/cuda/cuda_driver.cc:267] failed call to cuInit: CUDA_ERROR_NO_DEVICE: no CUDA-capable device is detected\n",
      "2024-04-21 13:18:05.982012: I tensorflow/compiler/xla/stream_executor/cuda/cuda_diagnostics.cc:169] retrieving CUDA diagnostic information for host: pop-os\n",
      "2024-04-21 13:18:05.982015: I tensorflow/compiler/xla/stream_executor/cuda/cuda_diagnostics.cc:176] hostname: pop-os\n",
      "2024-04-21 13:18:05.982083: I tensorflow/compiler/xla/stream_executor/cuda/cuda_diagnostics.cc:200] libcuda reported version is: 525.89.2\n",
      "2024-04-21 13:18:05.982091: I tensorflow/compiler/xla/stream_executor/cuda/cuda_diagnostics.cc:204] kernel reported version is: 525.89.2\n",
      "2024-04-21 13:18:05.982092: I tensorflow/compiler/xla/stream_executor/cuda/cuda_diagnostics.cc:310] kernel version seems to match DSO: 525.89.2\n",
      "2024-04-21 13:18:05.982248: I tensorflow/core/platform/cpu_feature_guard.cc:193] This TensorFlow binary is optimized with oneAPI Deep Neural Network Library (oneDNN) to use the following CPU instructions in performance-critical operations:  AVX2 AVX_VNNI FMA\n",
      "To enable them in other operations, rebuild TensorFlow with the appropriate compiler flags.\n",
      "/root/.cache/pypoetry/virtualenvs/cinepaw-P6zxCTLW-py3.10/lib/python3.10/site-packages/tensorflow/python/keras/layers/core.py:1053: UserWarning: deepmatch.models.comirec is not loaded, but a Lambda layer uses it. It may cause errors.\n",
      "  warnings.warn('{} is not loaded, but a Lambda layer uses it. '\n"
     ]
    },
    {
     "name": "stdout",
     "output_type": "stream",
     "text": [
      "WARNING:tensorflow:From /root/.cache/pypoetry/virtualenvs/cinepaw-P6zxCTLW-py3.10/lib/python3.10/site-packages/tensorflow/python/autograph/pyct/static_analysis/liveness.py:83: Analyzer.lamba_check (from tensorflow.python.autograph.pyct.static_analysis.liveness) is deprecated and will be removed after 2023-09-23.\n",
      "Instructions for updating:\n",
      "Lambda fuctions will be no more assumed to be used in the statement where they are used, or at least in the same block. https://github.com/tensorflow/tensorflow/issues/56089\n"
     ]
    }
   ],
   "source": [
    "model = load_model(\"model_25m_0421.h5\", custom_objects)"
   ]
  },
  {
   "cell_type": "code",
   "execution_count": 6,
   "id": "5ad75be8-51a4-4b02-ae9a-3c4b924df295",
   "metadata": {},
   "outputs": [],
   "source": [
    "import tensorflow as tf"
   ]
  },
  {
   "cell_type": "code",
   "execution_count": 48,
   "id": "d20f5e9a-b95d-4b0e-bd48-8f7f767bd7d6",
   "metadata": {},
   "outputs": [
    {
     "data": {
      "image/png": "[encoded data removed]",
      "text/plain": [
       "<IPython.core.display.Image object>"
      ]
     },
     "execution_count": 48,
     "metadata": {},
     "output_type": "execute_result"
    }
   ],
   "source": [
    "tf.keras.utils.plot_model(user_embedding_model)"
   ]
  },
  {
   "cell_type": "code",
   "execution_count": null,
   "id": "0c01d268-4348-42d4-b2e7-31468b6723bf",
   "metadata": {},
   "outputs": [],
   "source": []
  },
  {
   "cell_type": "code",
   "execution_count": null,
   "id": "e911c308-3cac-4267-8555-35e954bb16be",
   "metadata": {},
   "outputs": [],
   "source": []
  },
  {
   "cell_type": "code",
   "execution_count": null,
   "id": "011b6116-d2ac-4063-a1be-9c7c3a4c2e72",
   "metadata": {},
   "outputs": [],
   "source": []
  },
  {
   "cell_type": "code",
   "execution_count": null,
   "id": "99be585f-e242-48a1-9525-e1d75f49848b",
   "metadata": {},
   "outputs": [],
   "source": []
  },
  {
   "cell_type": "markdown",
   "id": "0f6ebc41-99da-47b8-9769-228b1c47a26b",
   "metadata": {},
   "source": [
    "## Test"
   ]
  },
  {
   "cell_type": "code",
   "execution_count": 144,
   "id": "22a914d5-5e12-49c0-b3e2-bd2d0a13ab0f",
   "metadata": {},
   "outputs": [
    {
     "name": "stderr",
     "output_type": "stream",
     "text": [
      "/root/.cache/pypoetry/virtualenvs/cinepaw-P6zxCTLW-py3.10/lib/python3.10/site-packages/tensorflow/python/keras/engine/training.py:2455: UserWarning: `Model.state_updates` will be removed in a future version. This property should not be used in TensorFlow 2.0, as `updates` are applied automatically.\n",
      "  warnings.warn('`Model.state_updates` will be removed in a future version. '\n",
      "2024-04-21 17:58:27.520572: W tensorflow/c/c_api.cc:291] Operation '{name:'lambda_26/Squeeze' id:17714 op device:{requested: '', assigned: ''} def:{{{node lambda_26/Squeeze}} = Squeeze[T=DT_FLOAT, _has_manual_control_dependencies=true, squeeze_dims=[1]](lambda_26/GatherV2)}}' was changed by setting attribute after it was run by a session. This mutation will have no effect, and will trigger an error in the future. Either don't modify nodes after running them or create a new session.\n"
     ]
    }
   ],
   "source": [
    "all_movie_ids = movies[\"movie_id\"]\n",
    "metadatas = movies.to_dict(orient=\"records\")\n",
    "\n",
    "all_item_model_input = {\"movie_id\": all_movie_ids}\n",
    "\n",
    "user_embedding_model = Model(inputs=model.user_input, outputs=model.user_embedding)\n",
    "item_embedding_model = Model(inputs=model.item_input, outputs=model.item_embedding)\n",
    "\n",
    "#user_embs = user_embedding_model.predict(test_user_model_input, batch_size=2 ** 12)\n",
    "# user_embs = user_embs[:, i, :]  # i in [0,k_max) if MIND\n",
    "item_embs = item_embedding_model.predict(all_item_model_input, batch_size=2 ** 12)"
   ]
  },
  {
   "cell_type": "code",
   "execution_count": 145,
   "id": "7c41bf91-6022-4943-a172-fa1e52c4a604",
   "metadata": {},
   "outputs": [
    {
     "name": "stderr",
     "output_type": "stream",
     "text": [
      "2024-04-21 17:58:27.729513: W tensorflow/c/c_api.cc:291] Operation '{name:'user_dnn_8/dropout_35/cond/Identity' id:17532 op device:{requested: '', assigned: ''} def:{{{node user_dnn_8/dropout_35/cond/Identity}} = Identity[T=DT_FLOAT, _has_manual_control_dependencies=true](user_dnn_8/dropout_35/cond)}}' was changed by setting attribute after it was run by a session. This mutation will have no effect, and will trigger an error in the future. Either don't modify nodes after running them or create a new session.\n"
     ]
    }
   ],
   "source": [
    "user_embs = user_embedding_model.predict(test_model_input, batch_size=2 ** 12)"
   ]
  },
  {
   "cell_type": "code",
   "execution_count": null,
   "id": "a82a5558-0da2-4f04-b92f-eeeb9316c1c1",
   "metadata": {},
   "outputs": [],
   "source": []
  },
  {
   "cell_type": "code",
   "execution_count": 146,
   "id": "36340712-1162-4dd3-bde8-226c68958f8d",
   "metadata": {},
   "outputs": [],
   "source": [
    "import chromadb\n",
    "chroma_client = chromadb.PersistentClient(path=\"./chroma_data\")\n",
    "collection = chroma_client.get_or_create_collection(\"movie_rec_test\")"
   ]
  },
  {
   "cell_type": "code",
   "execution_count": 147,
   "id": "77c71f5b-3fa1-4243-ac95-c4b704fe75a0",
   "metadata": {},
   "outputs": [],
   "source": [
    "movies[\"movie_id\"] = movies[\"movieId\"]"
   ]
  },
  {
   "cell_type": "code",
   "execution_count": 148,
   "id": "696c93d8-8f33-4fcd-a7e3-9de889a0c40a",
   "metadata": {},
   "outputs": [],
   "source": [
    "collection.delete(ids=all_movie_ids.apply(str).tolist())\n",
    "collection = chroma_client.get_or_create_collection(\"movie_rec_test\")\n",
    "collection.add(ids=all_movie_ids.apply(str).tolist(), embeddings=item_embs, metadatas=metadatas)\n"
   ]
  },
  {
   "cell_type": "code",
   "execution_count": 149,
   "id": "71dcaf1b-678d-4424-9707-331c49d47306",
   "metadata": {},
   "outputs": [
    {
     "name": "stderr",
     "output_type": "stream",
     "text": [
      "100%|███████████████████████████████████████████████████████████████████████████████████████████████████████████████████████████████████████| 6040/6040 [00:24<00:00, 246.61it/s]\n"
     ]
    }
   ],
   "source": [
    "# comi rec validate\n",
    "count = 0\n",
    "for i in tqdm(range(len(user_embs))):\n",
    "    user_emb = user_embs[i:i+1]\n",
    "    mids = [x[\"movieId\"] for x in collection.query(query_embeddings=user_emb[:, 1, :], n_results=25)[\"metadatas\"][0]] + \\\n",
    "    [x[\"movieId\"] for x in collection.query(query_embeddings=user_emb[:, 0, :], n_results=25)[\"metadatas\"][0]]\n",
    "    target = movies[movies[\"movieId\"]==test_model_input[\"movie_id\"][i]]\n",
    "    count += target[\"movieId\"].tolist()[0] in mids\n",
    "\n"
   ]
  },
  {
   "cell_type": "code",
   "execution_count": 151,
   "id": "2ed57ebc-02a2-4a9e-b8cd-a55022a28884",
   "metadata": {},
   "outputs": [
    {
     "data": {
      "text/plain": [
       "0.21092715231788078"
      ]
     },
     "execution_count": 151,
     "metadata": {},
     "output_type": "execute_result"
    }
   ],
   "source": [
    "count/6040"
   ]
  },
  {
   "cell_type": "code",
   "execution_count": 89,
   "id": "6c10f94c-fb6c-490e-afd2-12e84bec8d9b",
   "metadata": {},
   "outputs": [
    {
     "name": "stderr",
     "output_type": "stream",
     "text": [
      "100%|███████████████████████████████████████████████████████████████████████████████████████████████████████████████████████████████████████| 6040/6040 [00:07<00:00, 780.19it/s]\n"
     ]
    }
   ],
   "source": [
    "# youtube DNN\n",
    "count = 0\n",
    "for i in tqdm(range(len(user_embs))):\n",
    "    user_emb = user_embs[i:i+1]\n",
    "    mids = [x[\"movieId\"] for x in collection.query(query_embeddings=user_emb, n_results=20)[\"metadatas\"][0]]\n",
    "    target = movies[movies[\"movieId\"]==test_model_input[\"movie_id\"][i]]\n",
    "    count += target[\"movieId\"].tolist()[0] in mids"
   ]
  },
  {
   "cell_type": "code",
   "execution_count": 90,
   "id": "121998db-5ebf-491b-b516-47ee5180ea87",
   "metadata": {},
   "outputs": [
    {
     "data": {
      "text/plain": [
       "0.052152317880794705"
      ]
     },
     "execution_count": 90,
     "metadata": {},
     "output_type": "execute_result"
    }
   ],
   "source": [
    "count/6040"
   ]
  },
  {
   "cell_type": "code",
   "execution_count": null,
   "id": "ff5b052e-00e8-4322-9a24-a213495205d2",
   "metadata": {},
   "outputs": [],
   "source": []
  }
 ],
 "metadata": {
  "kernelspec": {
   "display_name": "peotry-rec",
   "language": "python",
   "name": "peotry-rec"
  },
  "language_info": {
   "codemirror_mode": {
    "name": "ipython",
    "version": 3
   },
   "file_extension": ".py",
   "mimetype": "text/x-python",
   "name": "python",
   "nbconvert_exporter": "python",
   "pygments_lexer": "ipython3",
   "version": "3.10.13"
  }
 },
 "nbformat": 4,
 "nbformat_minor": 5
}
