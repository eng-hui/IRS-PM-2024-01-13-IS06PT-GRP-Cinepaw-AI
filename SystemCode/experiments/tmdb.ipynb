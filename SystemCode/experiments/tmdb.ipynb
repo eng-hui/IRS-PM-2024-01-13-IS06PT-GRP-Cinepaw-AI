{
 "cells": [
  {
   "cell_type": "code",
   "execution_count": 1,
   "id": "c31cc645-825a-40eb-8a00-f8844bea35ca",
   "metadata": {},
   "outputs": [],
   "source": [
    "import requests\n",
    "\n",
    "url = \"https://api.themoviedb.org/3/authentication\"\n",
    "\n",
    "headers = {\"accept\": \"application/json\"}\n",
    "\n",
    "response = requests.get(url, headers=headers)"
   ]
  },
  {
   "cell_type": "code",
   "execution_count": 3,
   "id": "93da27ed-0303-4545-9592-b0bc4692ba32",
   "metadata": {},
   "outputs": [
    {
     "data": {
      "text/plain": [
       "{'status_code': 7,\n",
       " 'status_message': 'Invalid API key: You must be granted a valid key.',\n",
       " 'success': False}"
      ]
     },
     "execution_count": 3,
     "metadata": {},
     "output_type": "execute_result"
    }
   ],
   "source": [
    "response.json()"
   ]
  },
  {
   "cell_type": "code",
   "execution_count": null,
   "id": "93f9a8ea-c3a1-42cb-9371-132d7bdcac1a",
   "metadata": {},
   "outputs": [],
   "source": []
  }
 ],
 "metadata": {
  "kernelspec": {
   "display_name": "rec",
   "language": "python",
   "name": "rec"
  },
  "language_info": {
   "codemirror_mode": {
    "name": "ipython",
    "version": 3
   },
   "file_extension": ".py",
   "mimetype": "text/x-python",
   "name": "python",
   "nbconvert_exporter": "python",
   "pygments_lexer": "ipython3",
   "version": "3.9.18"
  }
 },
 "nbformat": 4,
 "nbformat_minor": 5
}
