{
 "cells": [
  {
   "cell_type": "code",
   "execution_count": 1,
   "id": "0f4f4da9-9b90-4df6-8f13-971709b941cb",
   "metadata": {},
   "outputs": [],
   "source": [
    "import pandas as pd"
   ]
  },
  {
   "cell_type": "code",
   "execution_count": 2,
   "id": "a5c3c392-2b7d-4f3b-ba4f-b5f46d9e6cb5",
   "metadata": {},
   "outputs": [],
   "source": [
    "movies = pd.read_csv(\"./datasets/ml-25m/movies.csv\")"
   ]
  },
  {
   "cell_type": "code",
   "execution_count": 3,
   "id": "db50e781-ad36-4798-a05b-f826244cd505",
   "metadata": {},
   "outputs": [],
   "source": [
    "ratings = pd.read_csv(\"./datasets/ml-25m/ratings.csv\")"
   ]
  },
  {
   "cell_type": "code",
   "execution_count": 3,
   "id": "c4887e9a-4b24-4a50-9ef5-fb6f8d74eac9",
   "metadata": {},
   "outputs": [],
   "source": [
    "import tensorflow"
   ]
  },
  {
   "cell_type": "code",
   "execution_count": 5,
   "id": "49e2989a-67ee-4408-beb6-2b616b7c8f12",
   "metadata": {},
   "outputs": [
    {
     "name": "stdout",
     "output_type": "stream",
     "text": [
      "System version: 3.9.18 (main, Sep 11 2023, 13:41:44) \n",
      "[GCC 11.2.0]\n"
     ]
    }
   ],
   "source": [
    "import os\n",
    "import sys\n",
    "from tempfile import TemporaryDirectory\n",
    "\n",
    "from recommenders.models.deeprec.deeprec_utils import download_deeprec_resources, prepare_hparams\n",
    "from recommenders.models.deeprec.models.xDeepFM import XDeepFMModel\n",
    "from recommenders.models.deeprec.io.iterator import FFMTextIterator\n",
    "\n",
    "print(f\"System version: {sys.version}\")"
   ]
  },
  {
   "cell_type": "code",
   "execution_count": null,
   "id": "daf378b8-97a6-4f08-a94b-c19d9f936401",
   "metadata": {},
   "outputs": [],
   "source": [
    "\n",
    "from recommenders.utils.notebook_utils import store_metadata"
   ]
  },
  {
   "cell_type": "code",
   "execution_count": 5,
   "id": "c3472179-5fcb-4a17-aaaf-bd829c45d927",
   "metadata": {},
   "outputs": [],
   "source": [
    "import torch"
   ]
  },
  {
   "cell_type": "code",
   "execution_count": 6,
   "id": "55f2bad3-5af9-49c7-ab6f-71b5b08398eb",
   "metadata": {},
   "outputs": [],
   "source": [
    "EPOCHS = 10\n",
    "BATCH_SIZE = 4096\n",
    "RANDOM_SEED = 42  # Set this to None for non-deterministic result"
   ]
  },
  {
   "cell_type": "code",
   "execution_count": 7,
   "id": "72099118-86b3-4fed-a502-b08c665430c3",
   "metadata": {},
   "outputs": [
    {
     "name": "stderr",
     "output_type": "stream",
     "text": [
      "100%|████████████████████████████████████████████████████████████████████████████████████████████████| 10.3k/10.3k [00:13<00:00, 755KB/s]\n"
     ]
    }
   ],
   "source": [
    "tmpdir = TemporaryDirectory()\n",
    "data_path = tmpdir.name\n",
    "yaml_file = os.path.join(data_path, r'xDeepFM.yaml')\n",
    "output_file = os.path.join(data_path, r'output.txt')\n",
    "train_file = os.path.join(data_path, r'cretio_tiny_train')\n",
    "valid_file = os.path.join(data_path, r'cretio_tiny_valid')\n",
    "test_file = os.path.join(data_path, r'cretio_tiny_test')\n",
    "\n",
    "if not os.path.exists(yaml_file):\n",
    "    download_deeprec_resources(r'https://recodatasets.z20.web.core.windows.net/deeprec/', data_path, 'xdeepfmresources.zip')"
   ]
  },
  {
   "cell_type": "code",
   "execution_count": 8,
   "id": "4d252ccc-75f8-4483-a9b1-a33d76b192cd",
   "metadata": {},
   "outputs": [
    {
     "name": "stdout",
     "output_type": "stream",
     "text": [
      "Demo with Criteo dataset\n",
      "HParams object with values {'use_entity': True, 'use_context': True, 'cross_activation': 'identity', 'user_dropout': False, 'dropout': [0.0, 0.0], 'attention_dropout': 0.0, 'load_saved_model': False, 'fast_CIN_d': 0, 'use_Linear_part': True, 'use_FM_part': False, 'use_CIN_part': True, 'use_DNN_part': True, 'init_method': 'tnormal', 'init_value': 0.1, 'embed_l2': 0.01, 'embed_l1': 0.0, 'layer_l2': 0.01, 'layer_l1': 0.0, 'cross_l2': 0.01, 'cross_l1': 0.0, 'reg_kg': 0.0, 'learning_rate': 0.002, 'lr_rs': 1, 'lr_kg': 0.5, 'kg_training_interval': 5, 'max_grad_norm': 2, 'is_clip_norm': 0, 'dtype': 32, 'optimizer': 'adam', 'epochs': 10, 'batch_size': 4096, 'enable_BN': False, 'show_step': 200000, 'save_model': False, 'save_epoch': 2, 'write_tfevents': False, 'train_num_ngs': 4, 'need_sample': True, 'embedding_dropout': 0.0, 'EARLY_STOP': 100, 'min_seq_length': 1, 'slots': 5, 'cell': 'SUM', 'FIELD_COUNT': 39, 'FEATURE_COUNT': 2300000, 'data_format': 'ffm', 'load_model_name': 'you model path', 'method': 'classification', 'model_type': 'xDeepFM', 'dim': 10, 'layer_sizes': [20, 20], 'activation': ['relu', 'relu'], 'cross_layer_sizes': [20, 10], 'loss': 'log_loss', 'metrics': ['auc', 'logloss']}\n"
     ]
    }
   ],
   "source": [
    "print('Demo with Criteo dataset')\n",
    "hparams = prepare_hparams(yaml_file, \n",
    "                          FEATURE_COUNT=2300000, \n",
    "                          FIELD_COUNT=39, \n",
    "                          cross_l2=0.01, \n",
    "                          embed_l2=0.01, \n",
    "                          layer_l2=0.01,\n",
    "                          learning_rate=0.002, \n",
    "                          batch_size=BATCH_SIZE, \n",
    "                          epochs=EPOCHS, \n",
    "                          cross_layer_sizes=[20, 10], \n",
    "                          init_value=0.1, \n",
    "                          layer_sizes=[20,20],\n",
    "                          use_Linear_part=True, \n",
    "                          use_CIN_part=True, \n",
    "                          use_DNN_part=True)\n",
    "print(hparams)"
   ]
  },
  {
   "cell_type": "code",
   "execution_count": 9,
   "id": "c1689b95-6f01-4fc6-8f18-d04bf1cff677",
   "metadata": {},
   "outputs": [
    {
     "name": "stdout",
     "output_type": "stream",
     "text": [
      "Add linear part.\n",
      "Add CIN part.\n",
      "Add DNN part.\n"
     ]
    },
    {
     "name": "stderr",
     "output_type": "stream",
     "text": [
      "2024-03-09 11:12:30.925035: I external/local_xla/xla/stream_executor/cuda/cuda_executor.cc:998] successful NUMA node read from SysFS had negative value (-1), but there must be at least one NUMA node, so returning NUMA node zero. See more at https://github.com/torvalds/linux/blob/v6.0/Documentation/ABI/testing/sysfs-bus-pci#L344-L355\n",
      "2024-03-09 11:12:30.967250: W tensorflow/core/common_runtime/gpu/gpu_device.cc:2251] Cannot dlopen some GPU libraries. Please make sure the missing libraries mentioned above are installed properly if you would like to use GPU. Follow the guide at https://www.tensorflow.org/install/gpu for how to download and setup the required libraries for your platform.\n",
      "Skipping registering GPU devices...\n",
      "2024-03-09 11:12:31.021175: I tensorflow/compiler/mlir/mlir_graph_optimization_pass.cc:388] MLIR V1 optimization pass is not enabled\n"
     ]
    }
   ],
   "source": [
    "model = XDeepFMModel(hparams, FFMTextIterator, seed=RANDOM_SEED)"
   ]
  },
  {
   "cell_type": "code",
   "execution_count": 10,
   "id": "bfc4309d-1332-46aa-a9e0-f68937fcda75",
   "metadata": {},
   "outputs": [
    {
     "name": "stdout",
     "output_type": "stream",
     "text": [
      "{'auc': 0.4728, 'logloss': 0.7113}\n"
     ]
    }
   ],
   "source": [
    "# check the predictive performance before the model is trained\n",
    "print(model.run_eval(test_file)) "
   ]
  },
  {
   "cell_type": "code",
   "execution_count": 11,
   "id": "ea98c937-0b65-4a63-92f6-4c2faa55baf2",
   "metadata": {},
   "outputs": [
    {
     "data": {
      "text/plain": [
       "'/tmp/tmpo55qjar0/cretio_tiny_train'"
      ]
     },
     "execution_count": 11,
     "metadata": {},
     "output_type": "execute_result"
    }
   ],
   "source": [
    "train_file"
   ]
  },
  {
   "cell_type": "code",
   "execution_count": 12,
   "id": "2ec4da42-0821-49e1-ae67-5d4edeef2e9d",
   "metadata": {
    "collapsed": true,
    "jupyter": {
     "outputs_hidden": true
    },
    "scrolled": true
   },
   "outputs": [
    {
     "name": "stdout",
     "output_type": "stream",
     "text": [
      "at epoch 1\n",
      "train info: logloss loss:744.3601875305176\n",
      "eval info: auc:0.6637, logloss:0.5342\n",
      "at epoch 1 , train time: 11.8 eval time: 1.8\n",
      "at epoch 2\n",
      "train info: logloss loss:385.6692638397217\n",
      "eval info: auc:0.7137, logloss:0.5109\n",
      "at epoch 2 , train time: 11.6 eval time: 1.7\n",
      "at epoch 3\n",
      "train info: logloss loss:191.50831031799316\n",
      "eval info: auc:0.7283, logloss:0.5037\n",
      "at epoch 3 , train time: 11.5 eval time: 1.8\n",
      "at epoch 4\n",
      "train info: logloss loss:92.20773839950562\n",
      "eval info: auc:0.7359, logloss:0.4991\n",
      "at epoch 4 , train time: 11.5 eval time: 1.8\n",
      "at epoch 5\n",
      "train info: logloss loss:43.15945327281952\n",
      "eval info: auc:0.74, logloss:0.4963\n",
      "at epoch 5 , train time: 11.5 eval time: 1.8\n",
      "at epoch 6\n",
      "train info: logloss loss:19.656920433044434\n",
      "eval info: auc:0.7426, logloss:0.4946\n",
      "at epoch 6 , train time: 11.6 eval time: 1.7\n",
      "at epoch 7\n",
      "train info: logloss loss:8.770356237888336\n",
      "eval info: auc:0.7441, logloss:0.4934\n",
      "at epoch 7 , train time: 11.6 eval time: 1.7\n",
      "at epoch 8\n",
      "train info: logloss loss:3.9227350801229477\n",
      "eval info: auc:0.7453, logloss:0.4925\n",
      "at epoch 8 , train time: 11.5 eval time: 1.8\n",
      "at epoch 9\n",
      "train info: logloss loss:1.85987688601017\n",
      "eval info: auc:0.7462, logloss:0.4917\n",
      "at epoch 9 , train time: 11.5 eval time: 1.8\n",
      "at epoch 10\n",
      "train info: logloss loss:1.0249396339058876\n",
      "eval info: auc:0.747, logloss:0.491\n",
      "at epoch 10 , train time: 11.6 eval time: 1.8\n"
     ]
    },
    {
     "data": {
      "text/plain": [
       "<recommenders.models.deeprec.models.xDeepFM.XDeepFMModel at 0x7f9410516610>"
      ]
     },
     "execution_count": 12,
     "metadata": {},
     "output_type": "execute_result"
    }
   ],
   "source": [
    "model.fit(train_file, valid_file)"
   ]
  },
  {
   "cell_type": "code",
   "execution_count": 13,
   "id": "b2a4b30e-c326-4a3f-a235-d5184603342d",
   "metadata": {},
   "outputs": [
    {
     "name": "stdout",
     "output_type": "stream",
     "text": [
      "{'auc': 0.7356, 'logloss': 0.5017}\n"
     ]
    }
   ],
   "source": [
    "# check the predictive performance after the model is trained\n",
    "result = model.run_eval(test_file)\n",
    "print(result)"
   ]
  },
  {
   "cell_type": "code",
   "execution_count": 14,
   "id": "55776f79-df0f-47ea-877e-8b5dfdddcdfb",
   "metadata": {},
   "outputs": [
    {
     "data": {
      "text/plain": [
       "\u001b[0;31mSignature:\u001b[0m \u001b[0mmodel\u001b[0m\u001b[0;34m.\u001b[0m\u001b[0mfit\u001b[0m\u001b[0;34m(\u001b[0m\u001b[0mtrain_file\u001b[0m\u001b[0;34m,\u001b[0m \u001b[0mvalid_file\u001b[0m\u001b[0;34m,\u001b[0m \u001b[0mtest_file\u001b[0m\u001b[0;34m=\u001b[0m\u001b[0;32mNone\u001b[0m\u001b[0;34m)\u001b[0m\u001b[0;34m\u001b[0m\u001b[0;34m\u001b[0m\u001b[0m\n",
       "\u001b[0;31mDocstring:\u001b[0m\n",
       "Fit the model with `train_file`. Evaluate the model on valid_file per epoch to observe the training status.\n",
       "If `test_file` is not None, evaluate it too.\n",
       "\n",
       "Args:\n",
       "    train_file (str): training data set.\n",
       "    valid_file (str): validation set.\n",
       "    test_file (str): test set.\n",
       "\n",
       "Returns:\n",
       "    object: An instance of self.\n",
       "\u001b[0;31mFile:\u001b[0m      /opt/conda/envs/rec/lib/python3.9/site-packages/recommenders/models/deeprec/models/base_model.py\n",
       "\u001b[0;31mType:\u001b[0m      method"
      ]
     },
     "metadata": {},
     "output_type": "display_data"
    }
   ],
   "source": [
    "?model.fit"
   ]
  },
  {
   "cell_type": "code",
   "execution_count": 15,
   "id": "843ea3d6-1660-4791-a5f2-d5a275bcacd5",
   "metadata": {},
   "outputs": [
    {
     "data": {
      "text/plain": [
       "'/tmp/tmpo55qjar0/cretio_tiny_train'"
      ]
     },
     "execution_count": 15,
     "metadata": {},
     "output_type": "execute_result"
    }
   ],
   "source": [
    "!ls train_file"
   ]
  },
  {
   "cell_type": "code",
   "execution_count": 18,
   "id": "aa60a1ee-18a1-4ba0-90cf-1b4ae58e317b",
   "metadata": {},
   "outputs": [],
   "source": [
    "with open(\"/tmp/tmpo55qjar0/cretio_tiny_train\") as f:\n",
    "    s = f.readlines()"
   ]
  },
  {
   "cell_type": "code",
   "execution_count": 20,
   "id": "ed4c939f-4e75-4da8-9414-ca2eed6b1417",
   "metadata": {},
   "outputs": [
    {
     "data": {
      "text/plain": [
       "['0 16:372270:1 11:1561051:1 24:199173:1 3:1750186:1 26:2073461:1 12:1864800:1 17:150363:1 18:1283644:1 28:164307:1 27:1262273:1 19:1349205:1 7:1928194:1 39:795398:1 9:161196:1 32:1480661:1 30:180793:1 10:267940:1 1:1533602:1 21:1829128:1 20:602253:1 22:1113685:1 8:587827:1 29:1978347:1 4:1007621:1 35:635625:1 14:1712964:1 36:505691:1 2:1767161:1 25:94115:1 37:1331841:1 5:1140056:1 15:1080229:1 38:1372774:1 23:1055765:1 34:265347:1 31:980768:1 33:1483574:1 13:108951:1 6:904241:1\\n']"
      ]
     },
     "execution_count": 20,
     "metadata": {},
     "output_type": "execute_result"
    }
   ],
   "source": [
    "s[:1]"
   ]
  },
  {
   "cell_type": "code",
   "execution_count": 21,
   "id": "c032acb9-deff-46ac-a570-84c137b47333",
   "metadata": {},
   "outputs": [
    {
     "data": {
      "text/plain": [
       "<tf.Variable 'XDeepFM/embedding/embedding_layer:0' shape=(2300000, 10) dtype=float32>"
      ]
     },
     "execution_count": 21,
     "metadata": {},
     "output_type": "execute_result"
    }
   ],
   "source": [
    "model."
   ]
  },
  {
   "cell_type": "code",
   "execution_count": null,
   "id": "158e74d3-9152-4c24-b444-fdd5805a9689",
   "metadata": {},
   "outputs": [],
   "source": []
  }
 ],
 "metadata": {
  "kernelspec": {
   "display_name": "rec",
   "language": "python",
   "name": "rec"
  },
  "language_info": {
   "codemirror_mode": {
    "name": "ipython",
    "version": 3
   },
   "file_extension": ".py",
   "mimetype": "text/x-python",
   "name": "python",
   "nbconvert_exporter": "python",
   "pygments_lexer": "ipython3",
   "version": "3.9.18"
  }
 },
 "nbformat": 4,
 "nbformat_minor": 5
}
