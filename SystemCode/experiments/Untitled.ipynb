{
 "cells": [
  {
   "cell_type": "code",
   "execution_count": 2,
   "id": "4323328e-30b5-4fe3-8a40-c79dc91dd257",
   "metadata": {},
   "outputs": [],
   "source": [
    "import pandas as pd\n",
    "import requests\n",
    "\n",
    "import os\n",
    "import sys\n",
    "\n",
    "module_path = os.path.abspath(os.path.join('../backend'))\n",
    "if module_path not in sys.path:\n",
    "    sys.path.append(module_path)\n",
    "\n",
    "from db import engine, ConversationHistory\n",
    "from sqlalchemy.orm import Session"
   ]
  },
  {
   "cell_type": "code",
   "execution_count": 32,
   "id": "48d3aa38-3982-4c4e-98a0-2c4d0249973a",
   "metadata": {},
   "outputs": [],
   "source": [
    "from sqlalchemy import text"
   ]
  },
  {
   "cell_type": "code",
   "execution_count": 40,
   "id": "dbf5a083-b6c4-4dad-b3b8-cf0e49f75bd2",
   "metadata": {},
   "outputs": [],
   "source": [
    "sql = \"delete from user_preference\"\n",
    "with Session(engine) as sess:\n",
    "    sess.execute(text(sql))\n",
    "    sess.commit()"
   ]
  },
  {
   "cell_type": "code",
   "execution_count": 17,
   "id": "961fee5b-e764-4914-a9f2-1a2aecbe4dcb",
   "metadata": {},
   "outputs": [],
   "source": [
    "sql = \"select * from user_preference\""
   ]
  },
  {
   "cell_type": "code",
   "execution_count": 18,
   "id": "affdac68-56b6-4247-9009-42fce206f88b",
   "metadata": {},
   "outputs": [],
   "source": [
    "df = pd.read_sql(sql, engine)"
   ]
  },
  {
   "cell_type": "code",
   "execution_count": 19,
   "id": "7c177f01-5697-49c9-aff9-1c19449a7b3a",
   "metadata": {},
   "outputs": [
    {
     "data": {
      "text/html": [
       "<div>\n",
       "<style scoped>\n",
       "    .dataframe tbody tr th:only-of-type {\n",
       "        vertical-align: middle;\n",
       "    }\n",
       "\n",
       "    .dataframe tbody tr th {\n",
       "        vertical-align: top;\n",
       "    }\n",
       "\n",
       "    .dataframe thead th {\n",
       "        text-align: right;\n",
       "    }\n",
       "</style>\n",
       "<table border=\"1\" class=\"dataframe\">\n",
       "  <thead>\n",
       "    <tr style=\"text-align: right;\">\n",
       "      <th></th>\n",
       "      <th>id</th>\n",
       "      <th>quote</th>\n",
       "      <th>user_id</th>\n",
       "      <th>movie_id</th>\n",
       "      <th>movie_title</th>\n",
       "      <th>score</th>\n",
       "    </tr>\n",
       "  </thead>\n",
       "  <tbody>\n",
       "    <tr>\n",
       "      <th>0</th>\n",
       "      <td>1</td>\n",
       "      <td>I very love it</td>\n",
       "      <td>10000</td>\n",
       "      <td>296</td>\n",
       "      <td>Pulp Fiction (1994)</td>\n",
       "      <td>10</td>\n",
       "    </tr>\n",
       "  </tbody>\n",
       "</table>\n",
       "</div>"
      ],
      "text/plain": [
       "   id           quote  user_id  movie_id          movie_title  score\n",
       "0   1  I very love it    10000       296  Pulp Fiction (1994)     10"
      ]
     },
     "execution_count": 19,
     "metadata": {},
     "output_type": "execute_result"
    }
   ],
   "source": [
    "df"
   ]
  },
  {
   "cell_type": "code",
   "execution_count": 12,
   "id": "9ea62c2d-d44e-41f1-9b20-a4f6f4e7f8d9",
   "metadata": {},
   "outputs": [
    {
     "ename": "SyntaxError",
     "evalue": "expression expected after dictionary key and ':' (2338453481.py, line 3)",
     "output_type": "error",
     "traceback": [
      "\u001b[0;36m  Cell \u001b[0;32mIn[12], line 3\u001b[0;36m\u001b[0m\n\u001b[0;31m    \"hist_genres\":\u001b[0m\n\u001b[0m                 ^\u001b[0m\n\u001b[0;31mSyntaxError\u001b[0m\u001b[0;31m:\u001b[0m expression expected after dictionary key and ':'\n"
     ]
    }
   ],
   "source": [
    "{\n",
    "    \"hist_movie_ids\":df[\"movie_id\"].tolist(),\n",
    "    \"hist_genres\":\n",
    "}"
   ]
  },
  {
   "cell_type": "code",
   "execution_count": null,
   "id": "a3915594-d23e-4a65-961d-871b8f67bbda",
   "metadata": {},
   "outputs": [],
   "source": []
  },
  {
   "cell_type": "code",
   "execution_count": null,
   "id": "9c161553-bc71-41a0-b3a5-7693378498f8",
   "metadata": {},
   "outputs": [],
   "source": []
  }
 ],
 "metadata": {
  "kernelspec": {
   "display_name": "peotry-rec",
   "language": "python",
   "name": "peotry-rec"
  },
  "language_info": {
   "codemirror_mode": {
    "name": "ipython",
    "version": 3
   },
   "file_extension": ".py",
   "mimetype": "text/x-python",
   "name": "python",
   "nbconvert_exporter": "python",
   "pygments_lexer": "ipython3",
   "version": "3.10.13"
  }
 },
 "nbformat": 4,
 "nbformat_minor": 5
}
