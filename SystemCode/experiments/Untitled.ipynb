{
 "cells": [
  {
   "cell_type": "code",
   "execution_count": 21,
   "id": "4323328e-30b5-4fe3-8a40-c79dc91dd257",
   "metadata": {},
   "outputs": [],
   "source": [
    "import pandas as pd\n",
    "import requests\n",
    "\n",
    "import os\n",
    "import sys\n",
    "\n",
    "module_path = os.path.abspath(os.path.join('../backend'))\n",
    "if module_path not in sys.path:\n",
    "    sys.path.append(module_path)\n",
    "\n",
    "from db import engine, ConversationHistory\n",
    "from sqlalchemy.orm import Session"
   ]
  },
  {
   "cell_type": "code",
   "execution_count": 22,
   "id": "48d3aa38-3982-4c4e-98a0-2c4d0249973a",
   "metadata": {},
   "outputs": [],
   "source": [
    "from sqlalchemy import text"
   ]
  },
  {
   "cell_type": "code",
   "execution_count": 53,
   "id": "dbf5a083-b6c4-4dad-b3b8-cf0e49f75bd2",
   "metadata": {},
   "outputs": [],
   "source": [
    "sql = \"delete from user_preference\"\n",
    "with Session(engine) as sess:\n",
    "    sess.execute(text(sql))\n",
    "    sess.commit()"
   ]
  },
  {
   "cell_type": "code",
   "execution_count": null,
   "id": "d1c075ba-4411-4973-8f73-2ac5f011be74",
   "metadata": {},
   "outputs": [],
   "source": [
    "sql = \"select * from user_preference\"\n",
    "\n",
    "df = pd.read_sql(sql, engine)"
   ]
  },
  {
   "cell_type": "code",
   "execution_count": 22,
   "id": "f2d7b2f2-04f3-436e-8ae8-33d0ac204122",
   "metadata": {},
   "outputs": [
    {
     "data": {
      "text/html": [
       "<div>\n",
       "<style scoped>\n",
       "    .dataframe tbody tr th:only-of-type {\n",
       "        vertical-align: middle;\n",
       "    }\n",
       "\n",
       "    .dataframe tbody tr th {\n",
       "        vertical-align: top;\n",
       "    }\n",
       "\n",
       "    .dataframe thead th {\n",
       "        text-align: right;\n",
       "    }\n",
       "</style>\n",
       "<table border=\"1\" class=\"dataframe\">\n",
       "  <thead>\n",
       "    <tr style=\"text-align: right;\">\n",
       "      <th></th>\n",
       "      <th>id</th>\n",
       "      <th>quote</th>\n",
       "      <th>user_id</th>\n",
       "      <th>movie_id</th>\n",
       "      <th>movie_title</th>\n",
       "      <th>score</th>\n",
       "    </tr>\n",
       "  </thead>\n",
       "  <tbody>\n",
       "    <tr>\n",
       "      <th>0</th>\n",
       "      <td>1</td>\n",
       "      <td>I love Hereditary so much, so good</td>\n",
       "      <td>10000</td>\n",
       "      <td>183869</td>\n",
       "      <td>Hereditary (2018)</td>\n",
       "      <td>10.0</td>\n",
       "    </tr>\n",
       "    <tr>\n",
       "      <th>1</th>\n",
       "      <td>2</td>\n",
       "      <td>midnight in paris is good</td>\n",
       "      <td>10000</td>\n",
       "      <td>86882</td>\n",
       "      <td>Midnight in Paris (2011)</td>\n",
       "      <td>NaN</td>\n",
       "    </tr>\n",
       "    <tr>\n",
       "      <th>2</th>\n",
       "      <td>3</td>\n",
       "      <td>why you think i would like the artist?</td>\n",
       "      <td>10000</td>\n",
       "      <td>89904</td>\n",
       "      <td>The Artist (2011)</td>\n",
       "      <td>NaN</td>\n",
       "    </tr>\n",
       "  </tbody>\n",
       "</table>\n",
       "</div>"
      ],
      "text/plain": [
       "   id                                   quote  user_id  movie_id  \\\n",
       "0   1      I love Hereditary so much, so good    10000    183869   \n",
       "1   2               midnight in paris is good    10000     86882   \n",
       "2   3  why you think i would like the artist?    10000     89904   \n",
       "\n",
       "                movie_title  score  \n",
       "0         Hereditary (2018)   10.0  \n",
       "1  Midnight in Paris (2011)    NaN  \n",
       "2         The Artist (2011)    NaN  "
      ]
     },
     "execution_count": 22,
     "metadata": {},
     "output_type": "execute_result"
    }
   ],
   "source": [
    "df"
   ]
  },
  {
   "cell_type": "code",
   "execution_count": 157,
   "id": "7c177f01-5697-49c9-aff9-1c19449a7b3a",
   "metadata": {
    "collapsed": true,
    "jupyter": {
     "outputs_hidden": true
    },
    "scrolled": true
   },
   "outputs": [
    {
     "data": {
      "text/html": [
       "<div>\n",
       "<style scoped>\n",
       "    .dataframe tbody tr th:only-of-type {\n",
       "        vertical-align: middle;\n",
       "    }\n",
       "\n",
       "    .dataframe tbody tr th {\n",
       "        vertical-align: top;\n",
       "    }\n",
       "\n",
       "    .dataframe thead th {\n",
       "        text-align: right;\n",
       "    }\n",
       "</style>\n",
       "<table border=\"1\" class=\"dataframe\">\n",
       "  <thead>\n",
       "    <tr style=\"text-align: right;\">\n",
       "      <th></th>\n",
       "      <th>id</th>\n",
       "      <th>quote</th>\n",
       "      <th>user_id</th>\n",
       "      <th>movie_id</th>\n",
       "      <th>movie_title</th>\n",
       "      <th>score</th>\n",
       "    </tr>\n",
       "  </thead>\n",
       "  <tbody>\n",
       "    <tr>\n",
       "      <th>0</th>\n",
       "      <td>1</td>\n",
       "      <td>I love Hereditary so much, so good</td>\n",
       "      <td>10000</td>\n",
       "      <td>183869</td>\n",
       "      <td>Hereditary (2018)</td>\n",
       "      <td>10.0</td>\n",
       "    </tr>\n",
       "    <tr>\n",
       "      <th>1</th>\n",
       "      <td>2</td>\n",
       "      <td>I love A Quiet Place</td>\n",
       "      <td>10000</td>\n",
       "      <td>185029</td>\n",
       "      <td>A Quiet Place (2018)</td>\n",
       "      <td>10.0</td>\n",
       "    </tr>\n",
       "    <tr>\n",
       "      <th>2</th>\n",
       "      <td>3</td>\n",
       "      <td>I love Ju-On, please mark it for me</td>\n",
       "      <td>10000</td>\n",
       "      <td>27772</td>\n",
       "      <td>Ju-on: The Grudge (2002)</td>\n",
       "      <td>NaN</td>\n",
       "    </tr>\n",
       "    <tr>\n",
       "      <th>3</th>\n",
       "      <td>4</td>\n",
       "      <td>I also very love Hell House LLC</td>\n",
       "      <td>10000</td>\n",
       "      <td>166655</td>\n",
       "      <td>Hell House LLC (2015)</td>\n",
       "      <td>10.0</td>\n",
       "    </tr>\n",
       "    <tr>\n",
       "      <th>4</th>\n",
       "      <td>5</td>\n",
       "      <td>I very love The Shining</td>\n",
       "      <td>10000</td>\n",
       "      <td>180263</td>\n",
       "      <td>The Shining (1997)</td>\n",
       "      <td>10.0</td>\n",
       "    </tr>\n",
       "    <tr>\n",
       "      <th>5</th>\n",
       "      <td>6</td>\n",
       "      <td>I love the Hellraiser</td>\n",
       "      <td>10000</td>\n",
       "      <td>3917</td>\n",
       "      <td>Hellraiser (1987)</td>\n",
       "      <td>NaN</td>\n",
       "    </tr>\n",
       "  </tbody>\n",
       "</table>\n",
       "</div>"
      ],
      "text/plain": [
       "   id                                quote  user_id  movie_id  \\\n",
       "0   1   I love Hereditary so much, so good    10000    183869   \n",
       "1   2                 I love A Quiet Place    10000    185029   \n",
       "2   3  I love Ju-On, please mark it for me    10000     27772   \n",
       "3   4      I also very love Hell House LLC    10000    166655   \n",
       "4   5              I very love The Shining    10000    180263   \n",
       "5   6                I love the Hellraiser    10000      3917   \n",
       "\n",
       "                movie_title  score  \n",
       "0         Hereditary (2018)   10.0  \n",
       "1      A Quiet Place (2018)   10.0  \n",
       "2  Ju-on: The Grudge (2002)    NaN  \n",
       "3     Hell House LLC (2015)   10.0  \n",
       "4        The Shining (1997)   10.0  \n",
       "5         Hellraiser (1987)    NaN  "
      ]
     },
     "execution_count": 157,
     "metadata": {},
     "output_type": "execute_result"
    }
   ],
   "source": [
    "df"
   ]
  },
  {
   "cell_type": "code",
   "execution_count": 52,
   "id": "9ea62c2d-d44e-41f1-9b20-a4f6f4e7f8d9",
   "metadata": {},
   "outputs": [
    {
     "ename": "SyntaxError",
     "evalue": "expression expected after dictionary key and ':' (2338453481.py, line 3)",
     "output_type": "error",
     "traceback": [
      "\u001b[0;36m  Cell \u001b[0;32mIn[52], line 3\u001b[0;36m\u001b[0m\n\u001b[0;31m    \"hist_genres\":\u001b[0m\n\u001b[0m                 ^\u001b[0m\n\u001b[0;31mSyntaxError\u001b[0m\u001b[0;31m:\u001b[0m expression expected after dictionary key and ':'\n"
     ]
    }
   ],
   "source": [
    "{\n",
    "    \"hist_movie_ids\":df[\"movie_id\"].tolist(),\n",
    "    \"hist_genres\":\n",
    "}"
   ]
  },
  {
   "cell_type": "code",
   "execution_count": null,
   "id": "a3915594-d23e-4a65-961d-871b8f67bbda",
   "metadata": {},
   "outputs": [],
   "source": []
  },
  {
   "cell_type": "code",
   "execution_count": null,
   "id": "9c161553-bc71-41a0-b3a5-7693378498f8",
   "metadata": {},
   "outputs": [],
   "source": []
  }
 ],
 "metadata": {
  "kernelspec": {
   "display_name": "peotry-rec",
   "language": "python",
   "name": "peotry-rec"
  },
  "language_info": {
   "codemirror_mode": {
    "name": "ipython",
    "version": 3
   },
   "file_extension": ".py",
   "mimetype": "text/x-python",
   "name": "python",
   "nbconvert_exporter": "python",
   "pygments_lexer": "ipython3",
   "version": "3.10.13"
  }
 },
 "nbformat": 4,
 "nbformat_minor": 5
}
