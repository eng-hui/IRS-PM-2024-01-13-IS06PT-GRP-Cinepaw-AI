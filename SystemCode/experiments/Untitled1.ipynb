{
 "cells": [
  {
   "cell_type": "code",
   "execution_count": 1,
   "id": "5242284a-8d6c-445e-be44-0fcf0dc4fd56",
   "metadata": {},
   "outputs": [],
   "source": [
    "import requests"
   ]
  },
  {
   "cell_type": "code",
   "execution_count": 15,
   "id": "bfdaec78-ec9a-4464-9ca3-61c2c00553f4",
   "metadata": {},
   "outputs": [],
   "source": [
    "re = requests.get(\"http://hikaru:8000/api/init_chat\")"
   ]
  },
  {
   "cell_type": "code",
   "execution_count": 13,
   "id": "3e74f949-c19a-42f3-9101-6b42ede6c19f",
   "metadata": {},
   "outputs": [],
   "source": [
    "re = requests.get(\"http://hikaru:8890/recommend\")"
   ]
  },
  {
   "cell_type": "code",
   "execution_count": 19,
   "id": "34fc04a7-98d5-4fca-96e1-5b18011d7270",
   "metadata": {},
   "outputs": [
    {
     "ename": "AttributeError",
     "evalue": "'Response' object has no attribute 'body'",
     "output_type": "error",
     "traceback": [
      "\u001b[0;31m---------------------------------------------------------------------------\u001b[0m",
      "\u001b[0;31mAttributeError\u001b[0m                            Traceback (most recent call last)",
      "Cell \u001b[0;32mIn[19], line 1\u001b[0m\n\u001b[0;32m----> 1\u001b[0m \u001b[43mre\u001b[49m\u001b[38;5;241;43m.\u001b[39;49m\u001b[43mbody\u001b[49m\n",
      "\u001b[0;31mAttributeError\u001b[0m: 'Response' object has no attribute 'body'"
     ]
    }
   ],
   "source": [
    "re"
   ]
  },
  {
   "cell_type": "code",
   "execution_count": null,
   "id": "90dfda94-5a20-4f8f-8ae7-b138e84bb1fd",
   "metadata": {},
   "outputs": [],
   "source": []
  }
 ],
 "metadata": {
  "kernelspec": {
   "display_name": "peotry-rec",
   "language": "python",
   "name": "peotry-rec"
  },
  "language_info": {
   "codemirror_mode": {
    "name": "ipython",
    "version": 3
   },
   "file_extension": ".py",
   "mimetype": "text/x-python",
   "name": "python",
   "nbconvert_exporter": "python",
   "pygments_lexer": "ipython3",
   "version": "3.10.13"
  }
 },
 "nbformat": 4,
 "nbformat_minor": 5
}
