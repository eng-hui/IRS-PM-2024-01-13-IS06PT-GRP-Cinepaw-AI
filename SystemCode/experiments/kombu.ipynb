{
 "cells": [
  {
   "cell_type": "code",
   "execution_count": 1,
   "id": "f132556d-5609-4cbc-8f85-f8bf8cac2215",
   "metadata": {},
   "outputs": [],
   "source": [
    "import kombu\n",
    "from kombu import Connection, Exchange, Queue"
   ]
  },
  {
   "cell_type": "code",
   "execution_count": 66,
   "id": "5cea8f45-a12e-4581-9805-65e9a455d70d",
   "metadata": {},
   "outputs": [],
   "source": [
    "from socket import timeout"
   ]
  },
  {
   "cell_type": "code",
   "execution_count": null,
   "id": "7ac63baf-f05e-4d0c-b332-302c45130c2a",
   "metadata": {},
   "outputs": [],
   "source": []
  },
  {
   "cell_type": "code",
   "execution_count": 3,
   "id": "5c4d55b5-8b84-49ea-baa3-082688d5b34f",
   "metadata": {},
   "outputs": [],
   "source": [
    "chat_exchange = Exchange('chat', 'direct', durable=True)"
   ]
  },
  {
   "cell_type": "code",
   "execution_count": 4,
   "id": "c32e8884-c6c7-4efd-bddd-3953ddf80bdf",
   "metadata": {},
   "outputs": [],
   "source": [
    "chat = Queue('chat', exchange=chat_exchange, routing_key='chat')"
   ]
  },
  {
   "cell_type": "code",
   "execution_count": 10,
   "id": "4368f306-4952-45fc-a313-f3c2bf843035",
   "metadata": {
    "collapsed": true,
    "jupyter": {
     "outputs_hidden": true
    }
   },
   "outputs": [
    {
     "data": {
      "text/plain": [
       "\u001b[0;31mInit signature:\u001b[0m\n",
       "\u001b[0mQueue\u001b[0m\u001b[0;34m(\u001b[0m\u001b[0;34m\u001b[0m\n",
       "\u001b[0;34m\u001b[0m    \u001b[0mname\u001b[0m\u001b[0;34m=\u001b[0m\u001b[0;34m''\u001b[0m\u001b[0;34m,\u001b[0m\u001b[0;34m\u001b[0m\n",
       "\u001b[0;34m\u001b[0m    \u001b[0mexchange\u001b[0m\u001b[0;34m=\u001b[0m\u001b[0;32mNone\u001b[0m\u001b[0;34m,\u001b[0m\u001b[0;34m\u001b[0m\n",
       "\u001b[0;34m\u001b[0m    \u001b[0mrouting_key\u001b[0m\u001b[0;34m=\u001b[0m\u001b[0;34m''\u001b[0m\u001b[0;34m,\u001b[0m\u001b[0;34m\u001b[0m\n",
       "\u001b[0;34m\u001b[0m    \u001b[0mchannel\u001b[0m\u001b[0;34m=\u001b[0m\u001b[0;32mNone\u001b[0m\u001b[0;34m,\u001b[0m\u001b[0;34m\u001b[0m\n",
       "\u001b[0;34m\u001b[0m    \u001b[0mbindings\u001b[0m\u001b[0;34m=\u001b[0m\u001b[0;32mNone\u001b[0m\u001b[0;34m,\u001b[0m\u001b[0;34m\u001b[0m\n",
       "\u001b[0;34m\u001b[0m    \u001b[0mon_declared\u001b[0m\u001b[0;34m=\u001b[0m\u001b[0;32mNone\u001b[0m\u001b[0;34m,\u001b[0m\u001b[0;34m\u001b[0m\n",
       "\u001b[0;34m\u001b[0m    \u001b[0;34m**\u001b[0m\u001b[0mkwargs\u001b[0m\u001b[0;34m,\u001b[0m\u001b[0;34m\u001b[0m\n",
       "\u001b[0;34m\u001b[0m\u001b[0;34m)\u001b[0m\u001b[0;34m\u001b[0m\u001b[0;34m\u001b[0m\u001b[0m\n",
       "\u001b[0;31mDocstring:\u001b[0m     \n",
       "A Queue declaration.\n",
       "\n",
       "Arguments:\n",
       "---------\n",
       "    name (str): See :attr:`name`.\n",
       "    exchange (Exchange, str): See :attr:`exchange`.\n",
       "    routing_key (str): See :attr:`routing_key`.\n",
       "    channel (kombu.Connection, ChannelT): See :attr:`channel`.\n",
       "    durable (bool): See :attr:`durable`.\n",
       "    exclusive (bool): See :attr:`exclusive`.\n",
       "    auto_delete (bool): See :attr:`auto_delete`.\n",
       "    queue_arguments (Dict): See :attr:`queue_arguments`.\n",
       "    binding_arguments (Dict): See :attr:`binding_arguments`.\n",
       "    consumer_arguments (Dict): See :attr:`consumer_arguments`.\n",
       "    no_declare (bool): See :attr:`no_declare`.\n",
       "    on_declared (Callable): See :attr:`on_declared`.\n",
       "    expires (float): See :attr:`expires`.\n",
       "    message_ttl (float): See :attr:`message_ttl`.\n",
       "    max_length (int): See :attr:`max_length`.\n",
       "    max_length_bytes (int): See :attr:`max_length_bytes`.\n",
       "    max_priority (int): See :attr:`max_priority`.\n",
       "\n",
       "Attributes\n",
       "----------\n",
       "    name (str): Name of the queue.\n",
       "        Default is no name (default queue destination).\n",
       "\n",
       "    exchange (Exchange): The :class:`Exchange` the queue binds to.\n",
       "\n",
       "    routing_key (str): The routing key (if any), also called *binding key*.\n",
       "\n",
       "        The interpretation of the routing key depends on\n",
       "        the :attr:`Exchange.type`.\n",
       "\n",
       "        * direct exchange\n",
       "\n",
       "            Matches if the routing key property of the message and\n",
       "            the :attr:`routing_key` attribute are identical.\n",
       "\n",
       "        * fanout exchange\n",
       "\n",
       "            Always matches, even if the binding does not have a key.\n",
       "\n",
       "        * topic exchange\n",
       "\n",
       "            Matches the routing key property of the message by a primitive\n",
       "            pattern matching scheme. The message routing key then consists\n",
       "            of words separated by dots (`\".\"`, like domain names), and\n",
       "            two special characters are available; star (`\"*\"`) and hash\n",
       "            (`\"#\"`). The star matches any word, and the hash matches\n",
       "            zero or more words. For example `\"*.stock.#\"` matches the\n",
       "            routing keys `\"usd.stock\"` and `\"eur.stock.db\"` but not\n",
       "            `\"stock.nasdaq\"`.\n",
       "\n",
       "    channel (ChannelT): The channel the Queue is bound to (if bound).\n",
       "\n",
       "    durable (bool): Durable queues remain active when a server restarts.\n",
       "        Non-durable queues (transient queues) are purged if/when\n",
       "        a server restarts.\n",
       "        Note that durable queues do not necessarily hold persistent\n",
       "        messages, although it does not make sense to send\n",
       "        persistent messages to a transient queue.\n",
       "\n",
       "        Default is :const:`True`.\n",
       "\n",
       "    exclusive (bool): Exclusive queues may only be consumed from by the\n",
       "        current connection. Setting the 'exclusive' flag\n",
       "        always implies 'auto-delete'.\n",
       "\n",
       "        Default is :const:`False`.\n",
       "\n",
       "    auto_delete (bool): If set, the queue is deleted when all consumers\n",
       "        have finished using it. Last consumer can be canceled\n",
       "        either explicitly or because its channel is closed. If\n",
       "        there was no consumer ever on the queue, it won't be\n",
       "        deleted.\n",
       "\n",
       "    expires (float): Set the expiry time (in seconds) for when this\n",
       "        queue should expire.\n",
       "\n",
       "        The expiry time decides how long the queue can stay unused\n",
       "        before it's automatically deleted.\n",
       "        *Unused* means the queue has no consumers, the queue has not been\n",
       "        redeclared, and ``Queue.get`` has not been invoked for a duration\n",
       "        of at least the expiration period.\n",
       "\n",
       "        See https://www.rabbitmq.com/ttl.html#queue-ttl\n",
       "\n",
       "        **RabbitMQ extension**: Only available when using RabbitMQ.\n",
       "\n",
       "    message_ttl (float): Message time to live in seconds.\n",
       "\n",
       "        This setting controls how long messages can stay in the queue\n",
       "        unconsumed. If the expiry time passes before a message consumer\n",
       "        has received the message, the message is deleted and no consumer\n",
       "        will see the message.\n",
       "\n",
       "        See https://www.rabbitmq.com/ttl.html#per-queue-message-ttl\n",
       "\n",
       "        **RabbitMQ extension**: Only available when using RabbitMQ.\n",
       "\n",
       "    max_length (int): Set the maximum number of messages that the\n",
       "        queue can hold.\n",
       "\n",
       "        If the number of messages in the queue size exceeds this limit,\n",
       "        new messages will be dropped (or dead-lettered if a dead letter\n",
       "        exchange is active).\n",
       "\n",
       "        See https://www.rabbitmq.com/maxlength.html\n",
       "\n",
       "        **RabbitMQ extension**: Only available when using RabbitMQ.\n",
       "\n",
       "    max_length_bytes (int): Set the max size (in bytes) for the total\n",
       "        of messages in the queue.\n",
       "\n",
       "        If the total size of all the messages in the queue exceeds this\n",
       "        limit, new messages will be dropped (or dead-lettered if a dead\n",
       "        letter exchange is active).\n",
       "\n",
       "        **RabbitMQ extension**: Only available when using RabbitMQ.\n",
       "\n",
       "    max_priority (int): Set the highest priority number for this queue.\n",
       "\n",
       "        For example if the value is 10, then messages can delivered to\n",
       "        this queue can have a ``priority`` value between 0 and 10,\n",
       "        where 10 is the highest priority.\n",
       "\n",
       "        RabbitMQ queues without a max priority set will ignore\n",
       "        the priority field in the message, so if you want priorities\n",
       "        you need to set the max priority field to declare the queue\n",
       "        as a priority queue.\n",
       "\n",
       "        **RabbitMQ extension**: Only available when using RabbitMQ.\n",
       "\n",
       "    queue_arguments (Dict): Additional arguments used when declaring\n",
       "        the queue.  Can be used to to set the arguments value\n",
       "        for RabbitMQ/AMQP's ``queue.declare``.\n",
       "\n",
       "    binding_arguments (Dict): Additional arguments used when binding\n",
       "        the queue.  Can be used to to set the arguments value\n",
       "        for RabbitMQ/AMQP's ``queue.declare``.\n",
       "\n",
       "    consumer_arguments (Dict): Additional arguments used when consuming\n",
       "        from this queue.  Can be used to to set the arguments value\n",
       "        for RabbitMQ/AMQP's ``basic.consume``.\n",
       "\n",
       "    alias (str): Unused in Kombu, but applications can take advantage\n",
       "        of this,  for example to give alternate names to queues with\n",
       "        automatically generated queue names.\n",
       "\n",
       "    on_declared (Callable): Optional callback to be applied when the\n",
       "        queue has been declared (the ``queue_declare`` operation is\n",
       "        complete).  This must be a function with a signature that\n",
       "        accepts at least 3 positional arguments:\n",
       "        ``(name, messages, consumers)``.\n",
       "\n",
       "    no_declare (bool): Never declare this queue, nor related\n",
       "        entities (:meth:`declare` does nothing).\n",
       "\u001b[0;31mFile:\u001b[0m           /opt/conda/envs/rec/lib/python3.9/site-packages/kombu/entity.py\n",
       "\u001b[0;31mType:\u001b[0m           type\n",
       "\u001b[0;31mSubclasses:\u001b[0m     "
      ]
     },
     "metadata": {},
     "output_type": "display_data"
    }
   ],
   "source": [
    "?Queue"
   ]
  },
  {
   "cell_type": "code",
   "execution_count": 5,
   "id": "cb87dc8f-6d7a-41ae-a4ea-262e478adb6f",
   "metadata": {},
   "outputs": [],
   "source": [
    "def process_chat(body, message):\n",
    "    print(body)\n",
    "    message.ack()"
   ]
  },
  {
   "cell_type": "code",
   "execution_count": 6,
   "id": "2d2f267b-c657-4017-bedd-d035095de772",
   "metadata": {},
   "outputs": [],
   "source": [
    "conn = Connection('redis://localhost:6379/')"
   ]
  },
  {
   "cell_type": "code",
   "execution_count": 8,
   "id": "687adfce-55d0-4dbe-8a81-7f6435da81c5",
   "metadata": {},
   "outputs": [
    {
     "data": {
      "text/plain": [
       "\u001b[0;31mSignature:\u001b[0m \u001b[0mconn\u001b[0m\u001b[0;34m.\u001b[0m\u001b[0mConsumer\u001b[0m\u001b[0;34m(\u001b[0m\u001b[0mqueues\u001b[0m\u001b[0;34m=\u001b[0m\u001b[0;32mNone\u001b[0m\u001b[0;34m,\u001b[0m \u001b[0mchannel\u001b[0m\u001b[0;34m=\u001b[0m\u001b[0;32mNone\u001b[0m\u001b[0;34m,\u001b[0m \u001b[0;34m*\u001b[0m\u001b[0margs\u001b[0m\u001b[0;34m,\u001b[0m \u001b[0;34m**\u001b[0m\u001b[0mkwargs\u001b[0m\u001b[0;34m)\u001b[0m\u001b[0;34m\u001b[0m\u001b[0;34m\u001b[0m\u001b[0m\n",
       "\u001b[0;31mDocstring:\u001b[0m Create new :class:`kombu.Consumer` instance.\n",
       "\u001b[0;31mFile:\u001b[0m      /opt/conda/envs/rec/lib/python3.9/site-packages/kombu/connection.py\n",
       "\u001b[0;31mType:\u001b[0m      method"
      ]
     },
     "metadata": {},
     "output_type": "display_data"
    }
   ],
   "source": [
    "?conn.Consumer"
   ]
  },
  {
   "cell_type": "code",
   "execution_count": null,
   "id": "05c8c25a-1cf9-4275-bd3c-f8222a6d3c02",
   "metadata": {},
   "outputs": [],
   "source": []
  },
  {
   "cell_type": "code",
   "execution_count": null,
   "id": "e048244e-99b6-4233-9505-8bb106b27f99",
   "metadata": {},
   "outputs": [],
   "source": [
    "# connections\n",
    "with Connection('redis://localhost:6379//') as conn:\n",
    "\n",
    "    # produce\n",
    "    producer = conn.Producer(serializer='json')\n",
    "    producer.publish({'name': '', 'size': 1301013},\n",
    "                      exchange=media_exchange, routing_key='video',\n",
    "                      declare=[video_queue])\n",
    "\n",
    "    # the declare above, makes sure the video queue is declared\n",
    "    # so that the messages can be delivered.\n",
    "    # It's a best practice in Kombu to have both publishers and\n",
    "    # consumers declare the queue. You can also declare the\n",
    "    # queue manually using:\n",
    "    #     video_queue(conn).declare()\n",
    "\n",
    "    # consume\n",
    "    with conn.Consumer(video_queue, callbacks=[process_media]) as consumer:\n",
    "        # Process messages and handle events on all channels\n",
    "        while True:\n",
    "            conn.drain_events()"
   ]
  },
  {
   "cell_type": "code",
   "execution_count": null,
   "id": "6b25c0e1-ae4e-4fce-9f25-60a1f902ce6a",
   "metadata": {},
   "outputs": [],
   "source": []
  },
  {
   "cell_type": "code",
   "execution_count": null,
   "id": "c6ef22c4-e737-4157-9eff-888719aed6fe",
   "metadata": {},
   "outputs": [],
   "source": []
  },
  {
   "cell_type": "code",
   "execution_count": null,
   "id": "0ef46605-ceb8-4b5b-81df-5c40f46a4fb6",
   "metadata": {},
   "outputs": [],
   "source": []
  },
  {
   "cell_type": "code",
   "execution_count": 63,
   "id": "dfdc8a53-67a3-4ad6-a9f1-20315a5fe325",
   "metadata": {},
   "outputs": [],
   "source": [
    "from kombu import Connection, Exchange, Queue\n",
    "REDIS_URL = 'redis://localhost:6379//'\n",
    "chat_exchange = Exchange('chat', 'direct', durable=True)\n",
    "\n",
    "def produce_chat_message(message, session_key):\n",
    "    chat = Queue(session_key, exchange=chat_exchange, routing_key=session_key)\n",
    "    with Connection(REDIS_URL) as conn:\n",
    "        # produce\n",
    "        producer = conn.Producer(serializer='json')\n",
    "        producer.publish(message,\n",
    "                        exchange=chat_exchange, routing_key=session_key,\n",
    "                        declare=[chat])\n",
    "\n",
    "def consume_chat_message(session_key):\n",
    "    tmp = {}\n",
    "    def fetch_message(body, message):\n",
    "        tmp[\"result\"] = body\n",
    "        message.ack()\n",
    "        return tmp\n",
    "        \n",
    "    chat = Queue(session_key, exchange=chat_exchange, routing_key=session_key)\n",
    "    with conn.Consumer(chat, callbacks=[fetch_message]) as consumer:\n",
    "        # Process messages and handle events on all channels\n",
    "        conn.drain_events(timeout=1)\n",
    "    return tmp.get(\"result\")\n",
    "\n"
   ]
  },
  {
   "cell_type": "code",
   "execution_count": 64,
   "id": "886e15fa-a381-401e-b444-6cba3dcb15f4",
   "metadata": {},
   "outputs": [],
   "source": [
    "produce_chat_message({\"hello\":\"world\"}, \"aaa\")"
   ]
  },
  {
   "cell_type": "code",
   "execution_count": 65,
   "id": "cabb6a42-dc0b-4f75-9ea4-c56b74d573d2",
   "metadata": {},
   "outputs": [
    {
     "name": "stdout",
     "output_type": "stream",
     "text": [
      "{'hello': 'world'}\n"
     ]
    },
    {
     "data": {
      "text/plain": [
       "{'hello': 'world'}"
      ]
     },
     "execution_count": 65,
     "metadata": {},
     "output_type": "execute_result"
    }
   ],
   "source": [
    "consume_chat_message(\"aaa\")"
   ]
  },
  {
   "cell_type": "code",
   "execution_count": 40,
   "id": "4ad8491f-91a8-4d7d-b76b-1a7e095889c6",
   "metadata": {
    "collapsed": true,
    "jupyter": {
     "outputs_hidden": true
    }
   },
   "outputs": [
    {
     "ename": "KeyboardInterrupt",
     "evalue": "",
     "output_type": "error",
     "traceback": [
      "\u001b[0;31m---------------------------------------------------------------------------\u001b[0m",
      "\u001b[0;31mKeyboardInterrupt\u001b[0m                         Traceback (most recent call last)",
      "Cell \u001b[0;32mIn[40], line 5\u001b[0m\n\u001b[1;32m      2\u001b[0m chat \u001b[38;5;241m=\u001b[39m Queue(session_key, exchange\u001b[38;5;241m=\u001b[39mchat_exchange, routing_key\u001b[38;5;241m=\u001b[39msession_key)\n\u001b[1;32m      3\u001b[0m \u001b[38;5;28;01mwith\u001b[39;00m conn\u001b[38;5;241m.\u001b[39mConsumer(chat, callbacks\u001b[38;5;241m=\u001b[39m[process_message]) \u001b[38;5;28;01mas\u001b[39;00m consumer:\n\u001b[1;32m      4\u001b[0m     \u001b[38;5;66;03m# Process messages and handle events on all channels\u001b[39;00m\n\u001b[0;32m----> 5\u001b[0m     \u001b[43mconn\u001b[49m\u001b[38;5;241;43m.\u001b[39;49m\u001b[43mdrain_events\u001b[49m\u001b[43m(\u001b[49m\u001b[43m)\u001b[49m\n\u001b[1;32m      6\u001b[0m     consumer\u001b[38;5;241m.\u001b[39mconsume()\n\u001b[1;32m      7\u001b[0m     \u001b[38;5;28mprint\u001b[39m(tmp)\n",
      "File \u001b[0;32m/opt/conda/envs/rec/lib/python3.9/site-packages/kombu/connection.py:341\u001b[0m, in \u001b[0;36mConnection.drain_events\u001b[0;34m(self, **kwargs)\u001b[0m\n\u001b[1;32m    330\u001b[0m \u001b[38;5;28;01mdef\u001b[39;00m \u001b[38;5;21mdrain_events\u001b[39m(\u001b[38;5;28mself\u001b[39m, \u001b[38;5;241m*\u001b[39m\u001b[38;5;241m*\u001b[39mkwargs):\n\u001b[1;32m    331\u001b[0m \u001b[38;5;250m    \u001b[39m\u001b[38;5;124;03m\"\"\"Wait for a single event from the server.\u001b[39;00m\n\u001b[1;32m    332\u001b[0m \n\u001b[1;32m    333\u001b[0m \u001b[38;5;124;03m    Arguments:\u001b[39;00m\n\u001b[0;32m   (...)\u001b[0m\n\u001b[1;32m    339\u001b[0m \u001b[38;5;124;03m        socket.timeout: if the timeout is exceeded.\u001b[39;00m\n\u001b[1;32m    340\u001b[0m \u001b[38;5;124;03m    \"\"\"\u001b[39;00m\n\u001b[0;32m--> 341\u001b[0m     \u001b[38;5;28;01mreturn\u001b[39;00m \u001b[38;5;28;43mself\u001b[39;49m\u001b[38;5;241;43m.\u001b[39;49m\u001b[43mtransport\u001b[49m\u001b[38;5;241;43m.\u001b[39;49m\u001b[43mdrain_events\u001b[49m\u001b[43m(\u001b[49m\u001b[38;5;28;43mself\u001b[39;49m\u001b[38;5;241;43m.\u001b[39;49m\u001b[43mconnection\u001b[49m\u001b[43m,\u001b[49m\u001b[43m \u001b[49m\u001b[38;5;241;43m*\u001b[39;49m\u001b[38;5;241;43m*\u001b[39;49m\u001b[43mkwargs\u001b[49m\u001b[43m)\u001b[49m\n",
      "File \u001b[0;32m/opt/conda/envs/rec/lib/python3.9/site-packages/kombu/transport/virtual/base.py:997\u001b[0m, in \u001b[0;36mTransport.drain_events\u001b[0;34m(self, connection, timeout)\u001b[0m\n\u001b[1;32m    995\u001b[0m \u001b[38;5;28;01mwhile\u001b[39;00m \u001b[38;5;241m1\u001b[39m:\n\u001b[1;32m    996\u001b[0m     \u001b[38;5;28;01mtry\u001b[39;00m:\n\u001b[0;32m--> 997\u001b[0m         \u001b[43mget\u001b[49m\u001b[43m(\u001b[49m\u001b[38;5;28;43mself\u001b[39;49m\u001b[38;5;241;43m.\u001b[39;49m\u001b[43m_deliver\u001b[49m\u001b[43m,\u001b[49m\u001b[43m \u001b[49m\u001b[43mtimeout\u001b[49m\u001b[38;5;241;43m=\u001b[39;49m\u001b[43mtimeout\u001b[49m\u001b[43m)\u001b[49m\n\u001b[1;32m    998\u001b[0m     \u001b[38;5;28;01mexcept\u001b[39;00m Empty:\n\u001b[1;32m    999\u001b[0m         \u001b[38;5;28;01mif\u001b[39;00m timeout \u001b[38;5;129;01mis\u001b[39;00m \u001b[38;5;129;01mnot\u001b[39;00m \u001b[38;5;28;01mNone\u001b[39;00m \u001b[38;5;129;01mand\u001b[39;00m monotonic() \u001b[38;5;241m-\u001b[39m time_start \u001b[38;5;241m>\u001b[39m\u001b[38;5;241m=\u001b[39m timeout:\n",
      "File \u001b[0;32m/opt/conda/envs/rec/lib/python3.9/site-packages/kombu/transport/redis.py:588\u001b[0m, in \u001b[0;36mMultiChannelPoller.get\u001b[0;34m(self, callback, timeout)\u001b[0m\n\u001b[1;32m    585\u001b[0m     \u001b[38;5;28;01mif\u001b[39;00m channel\u001b[38;5;241m.\u001b[39mactive_fanout_queues:    \u001b[38;5;66;03m# LISTEN mode?\u001b[39;00m\n\u001b[1;32m    586\u001b[0m         \u001b[38;5;28mself\u001b[39m\u001b[38;5;241m.\u001b[39m_register_LISTEN(channel)\n\u001b[0;32m--> 588\u001b[0m events \u001b[38;5;241m=\u001b[39m \u001b[38;5;28;43mself\u001b[39;49m\u001b[38;5;241;43m.\u001b[39;49m\u001b[43mpoller\u001b[49m\u001b[38;5;241;43m.\u001b[39;49m\u001b[43mpoll\u001b[49m\u001b[43m(\u001b[49m\u001b[43mtimeout\u001b[49m\u001b[43m)\u001b[49m\n\u001b[1;32m    589\u001b[0m \u001b[38;5;28;01mif\u001b[39;00m events:\n\u001b[1;32m    590\u001b[0m     \u001b[38;5;28;01mfor\u001b[39;00m fileno, event \u001b[38;5;129;01min\u001b[39;00m events:\n",
      "File \u001b[0;32m/opt/conda/envs/rec/lib/python3.9/site-packages/kombu/utils/eventio.py:83\u001b[0m, in \u001b[0;36m_epoll.poll\u001b[0;34m(self, timeout)\u001b[0m\n\u001b[1;32m     81\u001b[0m \u001b[38;5;28;01mdef\u001b[39;00m \u001b[38;5;21mpoll\u001b[39m(\u001b[38;5;28mself\u001b[39m, timeout):\n\u001b[1;32m     82\u001b[0m     \u001b[38;5;28;01mtry\u001b[39;00m:\n\u001b[0;32m---> 83\u001b[0m         \u001b[38;5;28;01mreturn\u001b[39;00m \u001b[38;5;28;43mself\u001b[39;49m\u001b[38;5;241;43m.\u001b[39;49m\u001b[43m_epoll\u001b[49m\u001b[38;5;241;43m.\u001b[39;49m\u001b[43mpoll\u001b[49m\u001b[43m(\u001b[49m\u001b[43mtimeout\u001b[49m\u001b[43m \u001b[49m\u001b[38;5;28;43;01mif\u001b[39;49;00m\u001b[43m \u001b[49m\u001b[43mtimeout\u001b[49m\u001b[43m \u001b[49m\u001b[38;5;129;43;01mis\u001b[39;49;00m\u001b[43m \u001b[49m\u001b[38;5;129;43;01mnot\u001b[39;49;00m\u001b[43m \u001b[49m\u001b[38;5;28;43;01mNone\u001b[39;49;00m\u001b[43m \u001b[49m\u001b[38;5;28;43;01melse\u001b[39;49;00m\u001b[43m \u001b[49m\u001b[38;5;241;43m-\u001b[39;49m\u001b[38;5;241;43m1\u001b[39;49m\u001b[43m)\u001b[49m\n\u001b[1;32m     84\u001b[0m     \u001b[38;5;28;01mexcept\u001b[39;00m \u001b[38;5;167;01mException\u001b[39;00m \u001b[38;5;28;01mas\u001b[39;00m exc:\n\u001b[1;32m     85\u001b[0m         \u001b[38;5;28;01mif\u001b[39;00m \u001b[38;5;28mgetattr\u001b[39m(exc, \u001b[38;5;124m'\u001b[39m\u001b[38;5;124merrno\u001b[39m\u001b[38;5;124m'\u001b[39m, \u001b[38;5;28;01mNone\u001b[39;00m) \u001b[38;5;241m!=\u001b[39m errno\u001b[38;5;241m.\u001b[39mEINTR:\n",
      "\u001b[0;31mKeyboardInterrupt\u001b[0m: "
     ]
    }
   ],
   "source": [
    "session_key = \"aaa\"\n",
    "chat = Queue(session_key, exchange=chat_exchange, routing_key=session_key)\n",
    "with conn.Consumer(chat, callbacks=[process_message]) as consumer:\n",
    "    # Process messages and handle events on all channels\n",
    "    conn.drain_events()\n",
    "    consumer.consume()\n",
    "    print(tmp)"
   ]
  },
  {
   "cell_type": "code",
   "execution_count": 43,
   "id": "97fa4118-3c3a-47c5-bced-962cb164569f",
   "metadata": {},
   "outputs": [
    {
     "data": {
      "text/plain": [
       "\u001b[0;31mSignature:\u001b[0m \u001b[0mconsumer\u001b[0m\u001b[0;34m.\u001b[0m\u001b[0mreceive\u001b[0m\u001b[0;34m(\u001b[0m\u001b[0mbody\u001b[0m\u001b[0;34m,\u001b[0m \u001b[0mmessage\u001b[0m\u001b[0;34m)\u001b[0m\u001b[0;34m\u001b[0m\u001b[0;34m\u001b[0m\u001b[0m\n",
       "\u001b[0;31mDocstring:\u001b[0m\n",
       "Method called when a message is received.\n",
       "\n",
       "This dispatches to the registered :attr:`callbacks`.\n",
       "\n",
       "Arguments:\n",
       "---------\n",
       "    body (Any): The decoded message body.\n",
       "    message (~kombu.Message): The message instance.\n",
       "\n",
       "Raises\n",
       "------\n",
       "    NotImplementedError: If no consumer callbacks have been\n",
       "        registered.\n",
       "\u001b[0;31mFile:\u001b[0m      /opt/conda/envs/rec/lib/python3.9/site-packages/kombu/messaging.py\n",
       "\u001b[0;31mType:\u001b[0m      method"
      ]
     },
     "metadata": {},
     "output_type": "display_data"
    }
   ],
   "source": [
    "?consumer.receive"
   ]
  },
  {
   "cell_type": "code",
   "execution_count": null,
   "id": "7f05b5d3-d1f5-49f1-950a-62fc5ef40764",
   "metadata": {},
   "outputs": [],
   "source": []
  }
 ],
 "metadata": {
  "kernelspec": {
   "display_name": "rec",
   "language": "python",
   "name": "rec"
  },
  "language_info": {
   "codemirror_mode": {
    "name": "ipython",
    "version": 3
   },
   "file_extension": ".py",
   "mimetype": "text/x-python",
   "name": "python",
   "nbconvert_exporter": "python",
   "pygments_lexer": "ipython3",
   "version": "3.9.18"
  }
 },
 "nbformat": 4,
 "nbformat_minor": 5
}
