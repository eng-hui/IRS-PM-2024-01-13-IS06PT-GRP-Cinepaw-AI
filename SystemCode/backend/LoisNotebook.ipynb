{
 "cells": [
  {
   "cell_type": "code",
   "execution_count": 3,
   "id": "54a2bb36-d35c-495c-b47a-45262819cefc",
   "metadata": {},
   "outputs": [],
   "source": [
    "#LOIS NOTEBOOK\n",
    "import pandas as pd"
   ]
  },
  {
   "cell_type": "code",
   "execution_count": 72,
   "id": "f5e85751-a77a-4d4e-93d3-a5282f5c59f0",
   "metadata": {},
   "outputs": [],
   "source": [
    "#datasets from ml-25m\n",
    "movies_df = pd.read_csv('./datasets/ml-25m/movies.csv')\n",
    "ratings_df = pd.read_csv('./datasets/ml-25m/ratings.csv')\n",
    "links_df = pd.read_csv('./datasets/ml-25m/links.csv')\n",
    "tags_df = pd.read_csv('./datasets/ml-25m/tags.csv')\n",
    "genome_scores_df = pd.read_csv('./datasets/ml-25m/genome-scores.csv')\n",
    "genome_tags_df = pd.read_csv('./datasets/ml-25m/genome-tags.csv')"
   ]
  },
  {
   "cell_type": "code",
   "execution_count": 90,
   "id": "83c5a8e9-de1f-490c-8a63-1204e50e77ed",
   "metadata": {},
   "outputs": [],
   "source": [
    "#creation of main table for machine learning\n",
    "\n",
    "#groupby ratings_df to get the average ratings per movie\n",
    "ratings_df = ratings_df.groupby(by=[\"movieId\"]).mean()\n",
    "\n",
    "#split genres by |\n",
    "movies_df['genres_split'] = movies_df['genres'].str.split('|').apply(lambda x: ', '.join(x))\n",
    "merged_df = pd.merge(movies_df, ratings_df, on='movieId', how='left')\n",
    "tags_df['tag'] = tags_df['tag'].astype(str)\n",
    "tags_grouped = tags_df.groupby('movieId')['tag'].apply(lambda x: ' '.join(x)).reset_index()\n",
    "merged_df = pd.merge(merged_df, tags_grouped, on='movieId', how='left')"
   ]
  },
  {
   "cell_type": "code",
   "execution_count": 92,
   "id": "25960514-2d37-41ef-ade1-060c5f7add50",
   "metadata": {
    "scrolled": true
   },
   "outputs": [],
   "source": [
    "final_movies_df = merged_df[['movieId', 'title', 'genres_split', 'rating', 'tag']]\n",
    "final_movies_df = final_movies_df.rename(columns={'movieId': 'movie_id', 'userId': 'user_id'})\n",
    "\n",
    "data = final_movies_df"
   ]
  },
  {
   "cell_type": "code",
   "execution_count": 93,
   "id": "88bbfbaa-bca4-4a8e-86c5-81a519b22244",
   "metadata": {},
   "outputs": [
    {
     "data": {
      "text/html": [
       "<div>\n",
       "<style scoped>\n",
       "    .dataframe tbody tr th:only-of-type {\n",
       "        vertical-align: middle;\n",
       "    }\n",
       "\n",
       "    .dataframe tbody tr th {\n",
       "        vertical-align: top;\n",
       "    }\n",
       "\n",
       "    .dataframe thead th {\n",
       "        text-align: right;\n",
       "    }\n",
       "</style>\n",
       "<table border=\"1\" class=\"dataframe\">\n",
       "  <thead>\n",
       "    <tr style=\"text-align: right;\">\n",
       "      <th></th>\n",
       "      <th>movie_id</th>\n",
       "      <th>title</th>\n",
       "      <th>rating</th>\n",
       "      <th>tags_genres</th>\n",
       "    </tr>\n",
       "  </thead>\n",
       "  <tbody>\n",
       "    <tr>\n",
       "      <th>0</th>\n",
       "      <td>1</td>\n",
       "      <td>Toy Story (1995)</td>\n",
       "      <td>3.893708</td>\n",
       "      <td>Owned imdb top 250 Pixar Pixar time travel chi...</td>\n",
       "    </tr>\n",
       "    <tr>\n",
       "      <th>1</th>\n",
       "      <td>2</td>\n",
       "      <td>Jumanji (1995)</td>\n",
       "      <td>3.251527</td>\n",
       "      <td>Robin Williams time travel fantasy based on ch...</td>\n",
       "    </tr>\n",
       "    <tr>\n",
       "      <th>2</th>\n",
       "      <td>3</td>\n",
       "      <td>Grumpier Old Men (1995)</td>\n",
       "      <td>3.142028</td>\n",
       "      <td>funny best friend duringcreditsstinger fishing...</td>\n",
       "    </tr>\n",
       "    <tr>\n",
       "      <th>3</th>\n",
       "      <td>4</td>\n",
       "      <td>Waiting to Exhale (1995)</td>\n",
       "      <td>2.853547</td>\n",
       "      <td>based on novel or book chick flick divorce int...</td>\n",
       "    </tr>\n",
       "    <tr>\n",
       "      <th>4</th>\n",
       "      <td>5</td>\n",
       "      <td>Father of the Bride Part II (1995)</td>\n",
       "      <td>3.058434</td>\n",
       "      <td>aging baby confidence contraception daughter g...</td>\n",
       "    </tr>\n",
       "  </tbody>\n",
       "</table>\n",
       "</div>"
      ],
      "text/plain": [
       "   movie_id                               title    rating  \\\n",
       "0         1                    Toy Story (1995)  3.893708   \n",
       "1         2                      Jumanji (1995)  3.251527   \n",
       "2         3             Grumpier Old Men (1995)  3.142028   \n",
       "3         4            Waiting to Exhale (1995)  2.853547   \n",
       "4         5  Father of the Bride Part II (1995)  3.058434   \n",
       "\n",
       "                                         tags_genres  \n",
       "0  Owned imdb top 250 Pixar Pixar time travel chi...  \n",
       "1  Robin Williams time travel fantasy based on ch...  \n",
       "2  funny best friend duringcreditsstinger fishing...  \n",
       "3  based on novel or book chick flick divorce int...  \n",
       "4  aging baby confidence contraception daughter g...  "
      ]
     },
     "execution_count": 93,
     "metadata": {},
     "output_type": "execute_result"
    }
   ],
   "source": [
    "data['tags_genres'] = data['tag']+data['genres_split']\n",
    "data_for_processing  = data.drop(columns=['tag', 'genres_split'])\n",
    "data_for_processing.head()"
   ]
  },
  {
   "cell_type": "code",
   "execution_count": 98,
   "id": "2f188588-d6ad-4da1-9812-ee845361d0dd",
   "metadata": {},
   "outputs": [
    {
     "data": {
      "text/plain": [
       "(62423, 10000)"
      ]
     },
     "execution_count": 98,
     "metadata": {},
     "output_type": "execute_result"
    }
   ],
   "source": [
    "from sklearn.feature_extraction.text import CountVectorizer\n",
    "cv=CountVectorizer(max_features=10000, stop_words='english')\n",
    "vector=cv.fit_transform(data_for_processing['tags_genres'].values.astype('U')).toarray()\n",
    "vector.shape"
   ]
  },
  {
   "cell_type": "code",
   "execution_count": 99,
   "id": "e60b44b5-1759-4ffb-9f79-844abce3b232",
   "metadata": {},
   "outputs": [
    {
     "data": {
      "text/plain": [
       "array([[1.        , 0.0811537 , 0.04219512, ..., 0.        , 0.        ,\n",
       "        0.        ],\n",
       "       [0.0811537 , 1.        , 0.00174817, ..., 0.        , 0.        ,\n",
       "        0.        ],\n",
       "       [0.04219512, 0.00174817, 1.        , ..., 0.        , 0.        ,\n",
       "        0.        ],\n",
       "       ...,\n",
       "       [0.        , 0.        , 0.        , ..., 1.        , 1.        ,\n",
       "        1.        ],\n",
       "       [0.        , 0.        , 0.        , ..., 1.        , 1.        ,\n",
       "        1.        ],\n",
       "       [0.        , 0.        , 0.        , ..., 1.        , 1.        ,\n",
       "        1.        ]])"
      ]
     },
     "execution_count": 99,
     "metadata": {},
     "output_type": "execute_result"
    }
   ],
   "source": [
    "from sklearn.metrics.pairwise import cosine_similarity\n",
    "similarity=cosine_similarity(vector)\n",
    "similarity"
   ]
  },
  {
   "cell_type": "code",
   "execution_count": 101,
   "id": "5b48a0ee-04e3-4269-9899-d02a422beb8f",
   "metadata": {},
   "outputs": [
    {
     "data": {
      "text/plain": [
       "0"
      ]
     },
     "execution_count": 101,
     "metadata": {},
     "output_type": "execute_result"
    }
   ],
   "source": [
    "data_for_processing[data_for_processing['title']==\"Toy Story (1995)\"].index[0]\n"
   ]
  },
  {
   "cell_type": "code",
   "execution_count": 103,
   "id": "3b5f5e14-c1ea-4794-94f3-736fb477c7fc",
   "metadata": {},
   "outputs": [
    {
     "name": "stdout",
     "output_type": "stream",
     "text": [
      "Grumpier Old Men (1995)\n",
      "Grumpy Old Men (1993)\n",
      "The Book of Daniel (2013)\n",
      "Pictures of the Old World (Obrazy starého sveta) (1972)\n",
      "Lydia (1941)\n"
     ]
    }
   ],
   "source": [
    "distance = sorted(list(enumerate(similarity[2])), reverse=True, key=lambda vector:vector[1])\n",
    "for i in distance[0:5]:\n",
    "    print(data_for_processing.iloc[i[0]].title)"
   ]
  },
  {
   "cell_type": "code",
   "execution_count": 107,
   "id": "377c561f-53e4-4d10-8354-218986ab42d9",
   "metadata": {},
   "outputs": [],
   "source": [
    "def recommend(movies):\n",
    "    index=data_for_processing[data_for_processing['title']==movies].index[0]\n",
    "    distance = sorted(list(enumerate(similarity[index])), reverse=True, key=lambda vector:vector[1])\n",
    "    for i in distance[0:5]:\n",
    "        print(data_for_processing.iloc[i[0]].title)"
   ]
  },
  {
   "cell_type": "code",
   "execution_count": 108,
   "id": "21e1db29-6361-414d-8e5c-f6d5b87de705",
   "metadata": {},
   "outputs": [
    {
     "name": "stdout",
     "output_type": "stream",
     "text": [
      "Toy Story (1995)\n",
      "Toy Story 2 (1999)\n",
      "Bug's Life, A (1998)\n",
      "Monsters, Inc. (2001)\n",
      "Toy Story 3 (2010)\n"
     ]
    }
   ],
   "source": [
    "recommend(\"Toy Story (1995)\")"
   ]
  },
  {
   "cell_type": "code",
   "execution_count": null,
   "id": "a62379d9-d6c8-459d-a5b2-3f7134f44071",
   "metadata": {},
   "outputs": [],
   "source": []
  }
 ],
 "metadata": {
  "kernelspec": {
   "display_name": "peotry-rec",
   "language": "python",
   "name": "peotry-rec"
  },
  "language_info": {
   "codemirror_mode": {
    "name": "ipython",
    "version": 3
   },
   "file_extension": ".py",
   "mimetype": "text/x-python",
   "name": "python",
   "nbconvert_exporter": "python",
   "pygments_lexer": "ipython3",
   "version": "3.10.13"
  }
 },
 "nbformat": 4,
 "nbformat_minor": 5
}
